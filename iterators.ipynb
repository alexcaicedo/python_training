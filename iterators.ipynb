{
 "cells": [
  {
   "attachments": {},
   "cell_type": "markdown",
   "metadata": {},
   "source": [
    "# **Python Iterators**"
   ]
  },
  {
   "cell_type": "code",
   "execution_count": null,
   "metadata": {},
   "outputs": [],
   "source": [
    "# Creating an iterator that iterates forever\n",
    "\n",
    "# First start by creating a helper class named RepeaterIterator\n",
    "class RepeaterIterator:\n",
    "    def __init__(self, source):\n",
    "        self.source = source\n",
    "    \n",
    "    # dunder method\n",
    "    def __next__(self):\n",
    "        return self.source.value\n",
    "\n",
    "class Repeater:\n",
    "    def __init__(self, value):\n",
    "        self.value = value\n",
    "    \n",
    "    # dunder method\n",
    "    def __iter__(self):\n",
    "        return RepeaterIterator(self)"
   ]
  },
  {
   "attachments": {},
   "cell_type": "markdown",
   "metadata": {},
   "source": [
    "`RepeaterIterator` looks like a straightforward Python class, but you might want to take note of the following two things:\n",
    "\n",
    "1. In the `__init__` method we link each `RepeaterIterator` instance to the `Repeater` object that created it. That way we can hold on to the “source” object that’s being iterated over.\n",
    "\n",
    "2. In `RepeaterIterator.__next__`, we reach back into the “source” `Repeater` instance and return the value associated with it.\n",
    "\n",
    "In this code example, `Repeater` and `RepeaterIterator` are working together to support Python’s iterator protocol. The two dunder methods we defined, `__iter__` and `__next__`, are the key to making a Python object iterable."
   ]
  },
  {
   "cell_type": "code",
   "execution_count": null,
   "metadata": {},
   "outputs": [],
   "source": [
    "# Testing the compatibility of the two-class setup with for-in iteration\n",
    "repeater = Repeater('Hello') # Creation of an instance of Repeater\n",
    "for item in repeater:\n",
    "    print(item)\n",
    "\n",
    "# This prints 'Hello' forever"
   ]
  },
  {
   "attachments": {},
   "cell_type": "markdown",
   "metadata": {},
   "source": [
    "Now, what does this for-in loop really do behind the scenes? How does it communicate with the `repeater` object to fetch new elements from it?\n",
    "\n",
    "To dispel some of that “magic” we can expand this loop into a slightly longer code snippet that gives the same result:"
   ]
  },
  {
   "cell_type": "code",
   "execution_count": null,
   "metadata": {},
   "outputs": [],
   "source": [
    "repeater = Repeater('Hello')\n",
    "iterator = repeater.__iter__()\n",
    "while True:\n",
    "    item = iterator.__next__()\n",
    "    print(item)"
   ]
  },
  {
   "attachments": {},
   "cell_type": "markdown",
   "metadata": {},
   "source": [
    "As you can see, the for-in was just syntactic sugar for a simple while loop:\n",
    "\n",
    "- It first prepared the repeater object for iteration by calling its `__iter__` method. This returned the actual iterator object.\n",
    "\n",
    "- After that, the loop repeatedly calls the iterator object’s `__next__` method to retrieve values from it.\n",
    "\n",
    "Many times both of these *responsibilities* can be shouldered by a single class. Doing this allows you to reduce the amount of code necessary to write a class-based iterator. It doesn’t really matter where `__next__` is defined. In the iterator protocol, all that matters is that `__iter__` returns any object with a `__next__` method on it.\n",
    "\n",
    "What if we added the `__next__` method directly to the `Repeater` class instead?\n",
    "\n",
    "That way we could get rid of `RepeaterIterator` altogether and implement an iterable object with a single Python class."
   ]
  },
  {
   "cell_type": "code",
   "execution_count": null,
   "metadata": {},
   "outputs": [],
   "source": [
    "class Repeater:\n",
    "    def __init__(self, value):\n",
    "        self.value = value\n",
    "    \n",
    "    # dunder methods\n",
    "    def __iter__(self):\n",
    "        return self\n",
    "    \n",
    "    def __next__(self):\n",
    "        return self.value"
   ]
  },
  {
   "attachments": {},
   "cell_type": "markdown",
   "metadata": {},
   "source": [
    "We just went from two separate classes and 10 lines of code to to just one class and 7 lines of code.\n",
    "\n",
    "## **But, who wants to iterate forever?**\n",
    "\n",
    "Let's now write another iterator class called `BoundedRepeater`. It’ll be similar to our previous `Repeater` example, but this time we’ll want it to stop after a predefined number of repetitions."
   ]
  },
  {
   "cell_type": "code",
   "execution_count": 1,
   "metadata": {},
   "outputs": [],
   "source": [
    "class BoundedRepeater:\n",
    "    def __init__(self, value, max_repeats):\n",
    "        self.value = value\n",
    "        self.max_repeats = max_repeats\n",
    "        self.count = 0\n",
    "    \n",
    "    def __iter__(self):\n",
    "        return self\n",
    "    \n",
    "    def __next__(self):\n",
    "        if self.count >= self.max_repeats:\n",
    "            raise StopIteration\n",
    "        self.count += 1\n",
    "        return self.value"
   ]
  },
  {
   "cell_type": "code",
   "execution_count": 2,
   "metadata": {},
   "outputs": [
    {
     "name": "stdout",
     "output_type": "stream",
     "text": [
      "Hello\n",
      "Hello\n",
      "Hello\n"
     ]
    }
   ],
   "source": [
    "repeater = BoundedRepeater('Hello', 3)\n",
    "for item in repeater:\n",
    "    print(item)"
   ]
  },
  {
   "cell_type": "code",
   "execution_count": 3,
   "metadata": {},
   "outputs": [
    {
     "name": "stdout",
     "output_type": "stream",
     "text": [
      "Hello\n",
      "Hello\n",
      "Hello\n",
      "Hello\n"
     ]
    }
   ],
   "source": [
    "repeater = BoundedRepeater('Hello', 4)\n",
    "\n",
    "# Breaking up the for-in loop\n",
    "iterator = repeater.__iter__()      # However, in pythonic syntax it's best to write iter(repeater) instead\n",
    "while True:\n",
    "    try:\n",
    "        item = iterator.__next__()  # However, in pythonic syntax it's best to write next(repeater) instead\n",
    "    except StopIteration:\n",
    "        break\n",
    "    print(item)"
   ]
  },
  {
   "cell_type": "code",
   "execution_count": null,
   "metadata": {},
   "outputs": [],
   "source": []
  }
 ],
 "metadata": {
  "kernelspec": {
   "display_name": "base",
   "language": "python",
   "name": "python3"
  },
  "language_info": {
   "codemirror_mode": {
    "name": "ipython",
    "version": 3
   },
   "file_extension": ".py",
   "mimetype": "text/x-python",
   "name": "python",
   "nbconvert_exporter": "python",
   "pygments_lexer": "ipython3",
   "version": "3.10.12"
  },
  "orig_nbformat": 4
 },
 "nbformat": 4,
 "nbformat_minor": 2
}
