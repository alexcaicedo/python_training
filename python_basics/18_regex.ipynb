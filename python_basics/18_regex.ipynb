{
 "cells": [
  {
   "attachments": {},
   "cell_type": "markdown",
   "metadata": {},
   "source": [
    "# **Regular Expressions**"
   ]
  },
  {
   "attachments": {},
   "cell_type": "markdown",
   "metadata": {},
   "source": [
    "A regular expression, or ***`RegEx`***, is a special text string that helps to find patterns in data. A RegEx can be used to check if some patterns exists in a different data type. To use RegEx in python first we should import the RegEx module which is called ***`re`***."
   ]
  },
  {
   "cell_type": "code",
   "execution_count": 2,
   "metadata": {},
   "outputs": [],
   "source": [
    "import re"
   ]
  },
  {
   "attachments": {},
   "cell_type": "markdown",
   "metadata": {},
   "source": [
    "### **Methods in the *`re`* module**"
   ]
  },
  {
   "attachments": {},
   "cell_type": "markdown",
   "metadata": {},
   "source": [
    "To find a pattern we use different set of re character sets that allows to search for a match in a string.\n",
    "\n",
    "- re.`match`(): Searches only in the beginning of the first line of the string and returns matched objects if found, else returns `None`.\n",
    "- re.`search`(): Returns a match object if there is one anywhere in the string, including multiline strings.\n",
    "- re.`findall`(): Returns a list containing all matches.\n",
    "- re.`split`(): Takes a string, splits it at the match points, returns a list.\n",
    "- re.`sub`(): Replaces one or many matches within a string."
   ]
  },
  {
   "attachments": {},
   "cell_type": "markdown",
   "metadata": {},
   "source": [
    "#### **.match()**"
   ]
  },
  {
   "cell_type": "code",
   "execution_count": 3,
   "metadata": {},
   "outputs": [
    {
     "data": {
      "text/plain": [
       "<re.Match object; span=(0, 15), match='I love to learn'>"
      ]
     },
     "execution_count": 3,
     "metadata": {},
     "output_type": "execute_result"
    }
   ],
   "source": [
    "txt = \"I love to learn Python and Data Science\"\n",
    "match = re.match(\"I love to learn\", txt, re.I) # re.I is case ignore.\n",
    "match"
   ]
  },
  {
   "cell_type": "code",
   "execution_count": 4,
   "metadata": {},
   "outputs": [
    {
     "data": {
      "text/plain": [
       "(0, 15)"
      ]
     },
     "execution_count": 4,
     "metadata": {},
     "output_type": "execute_result"
    }
   ],
   "source": [
    "# We can get the starting and ending position of the match as tuple using .span()\n",
    "span = match.span()\n",
    "span"
   ]
  },
  {
   "cell_type": "code",
   "execution_count": 5,
   "metadata": {},
   "outputs": [
    {
     "name": "stdout",
     "output_type": "stream",
     "text": [
      "0 15\n"
     ]
    }
   ],
   "source": [
    "start, end = span\n",
    "print(start, end)"
   ]
  },
  {
   "cell_type": "code",
   "execution_count": 6,
   "metadata": {},
   "outputs": [
    {
     "data": {
      "text/plain": [
       "'I love to learn'"
      ]
     },
     "execution_count": 6,
     "metadata": {},
     "output_type": "execute_result"
    }
   ],
   "source": [
    "substring = txt[start:end]\n",
    "substring"
   ]
  },
  {
   "attachments": {},
   "cell_type": "markdown",
   "metadata": {},
   "source": [
    "As you can see from the example above, the pattern we are looking for (or the substring we are looking for) is *`I love to learn`*. The match function returns an object only if the text starts with the pattern."
   ]
  },
  {
   "cell_type": "code",
   "execution_count": 8,
   "metadata": {},
   "outputs": [
    {
     "name": "stdout",
     "output_type": "stream",
     "text": [
      "None\n"
     ]
    }
   ],
   "source": [
    "match_2 = re.match(\"I like to learn\", txt, re.I)\n",
    "print(match_2)"
   ]
  },
  {
   "attachments": {},
   "cell_type": "markdown",
   "metadata": {},
   "source": [
    "The string does not string with *`I like to learn`*, therefore there was no match and the match method returned None."
   ]
  },
  {
   "attachments": {},
   "cell_type": "markdown",
   "metadata": {},
   "source": [
    "#### **.search()**"
   ]
  },
  {
   "cell_type": "code",
   "execution_count": 24,
   "metadata": {},
   "outputs": [
    {
     "data": {
      "text/plain": [
       "<re.Match object; span=(127, 132), match='first'>"
      ]
     },
     "execution_count": 24,
     "metadata": {},
     "output_type": "execute_result"
    }
   ],
   "source": [
    "txt = \"\"\"\n",
    "Python is the most beatiful programming language that a human being has ever created.\n",
    "The language python is recommended as a first one for learning.\n",
    "\"\"\"\n",
    "match = re.search(\"first\", txt, re.I)\n",
    "match"
   ]
  },
  {
   "cell_type": "code",
   "execution_count": 15,
   "metadata": {},
   "outputs": [
    {
     "data": {
      "text/plain": [
       "(127, 132)"
      ]
     },
     "execution_count": 15,
     "metadata": {},
     "output_type": "execute_result"
    }
   ],
   "source": [
    "span = match.span()\n",
    "span"
   ]
  },
  {
   "cell_type": "code",
   "execution_count": 16,
   "metadata": {},
   "outputs": [
    {
     "name": "stdout",
     "output_type": "stream",
     "text": [
      "first\n"
     ]
    }
   ],
   "source": [
    "start, end = span\n",
    "substring = txt[start:end]\n",
    "print(substring)"
   ]
  },
  {
   "attachments": {},
   "cell_type": "markdown",
   "metadata": {},
   "source": [
    "As observed, *`.search()`* is much better than *`.match()`* because it can look for the pattern throughout the text. Search returns a match object with a first match that was found, otherwise it returns `None`. A much better re function is *`.findall()`*. This function checks for the pattern through the whole string and returns all the matches as a list."
   ]
  },
  {
   "attachments": {},
   "cell_type": "markdown",
   "metadata": {},
   "source": [
    "#### **.findall()**"
   ]
  },
  {
   "cell_type": "code",
   "execution_count": 17,
   "metadata": {},
   "outputs": [
    {
     "data": {
      "text/plain": [
       "['language', 'language']"
      ]
     },
     "execution_count": 17,
     "metadata": {},
     "output_type": "execute_result"
    }
   ],
   "source": [
    "matches = re.findall(\"language\", txt, re.I)\n",
    "matches"
   ]
  },
  {
   "cell_type": "code",
   "execution_count": 18,
   "metadata": {},
   "outputs": [
    {
     "data": {
      "text/plain": [
       "['Python', 'python']"
      ]
     },
     "execution_count": 18,
     "metadata": {},
     "output_type": "execute_result"
    }
   ],
   "source": [
    "matches = re.findall(\"python\", txt, re.I)\n",
    "matches"
   ]
  },
  {
   "attachments": {},
   "cell_type": "markdown",
   "metadata": {},
   "source": [
    "Since we are using *`re.I`* both lowercase and uppercase letters are included. If we do not have the *`re.I`* flag, then we will have to write our pattern differently."
   ]
  },
  {
   "cell_type": "code",
   "execution_count": 19,
   "metadata": {},
   "outputs": [
    {
     "data": {
      "text/plain": [
       "['Python', 'python']"
      ]
     },
     "execution_count": 19,
     "metadata": {},
     "output_type": "execute_result"
    }
   ],
   "source": [
    "matches = re.findall(\"Python|python\", txt)\n",
    "matches"
   ]
  },
  {
   "cell_type": "code",
   "execution_count": 20,
   "metadata": {},
   "outputs": [
    {
     "data": {
      "text/plain": [
       "['Python', 'python']"
      ]
     },
     "execution_count": 20,
     "metadata": {},
     "output_type": "execute_result"
    }
   ],
   "source": [
    "matches = re.findall(\"[Pp]ython\", txt)\n",
    "matches"
   ]
  },
  {
   "attachments": {},
   "cell_type": "markdown",
   "metadata": {},
   "source": [
    "### **Replacing a substring**"
   ]
  },
  {
   "cell_type": "code",
   "execution_count": 25,
   "metadata": {},
   "outputs": [
    {
     "name": "stdout",
     "output_type": "stream",
     "text": [
      "\n",
      "JavaScript is the most beatiful programming language that a human being has ever created.\n",
      "The language JavaScript is recommended as a first one for learning.\n",
      "\n"
     ]
    }
   ],
   "source": [
    "match_replaced = re.sub(\"[Pp]ython\", \"JavaScript\", txt, re.I)\n",
    "# OR match_replaced = re.sub(\"Python|python\", \"JavaScript\", txt, re.I)\n",
    "print(match_replaced)"
   ]
  },
  {
   "cell_type": "code",
   "execution_count": 26,
   "metadata": {},
   "outputs": [
    {
     "name": "stdout",
     "output_type": "stream",
     "text": [
      "I am teacher and  I love teaching. \n",
      "There is nothing as rewarding as educating and empowering people.\n",
      "I found teaching more interesting than any other jobs. \n",
      "Does this motivate you to be a teacher?\n"
     ]
    }
   ],
   "source": [
    "txt = \"\"\"%I a%m te%%a%%che%r% a%n%d %% I l%o%ve te%ach%ing. \n",
    "T%he%re i%s n%o%th%ing as r%ewarding a%s e%duc%at%i%ng a%n%d e%m%p%ow%er%ing p%e%o%ple.\n",
    "I fo%und te%a%ching m%ore i%n%t%er%%es%ting t%h%an any other %jobs. \n",
    "D%o%es thi%s m%ot%iv%a%te %y%o%u to b%e a t%e%a%cher?\"\"\"\n",
    "\n",
    "matches = re.sub(\"%\", \"\", txt)\n",
    "print(matches)"
   ]
  },
  {
   "attachments": {},
   "cell_type": "markdown",
   "metadata": {},
   "source": [
    "### **Splitting text using RegEx split**"
   ]
  },
  {
   "cell_type": "code",
   "execution_count": 27,
   "metadata": {},
   "outputs": [
    {
     "name": "stdout",
     "output_type": "stream",
     "text": [
      "['I am a teacher and I love teaching.', 'There is nothing as rewarding as educating and empowering people.', 'I found teaching more interesting than any other jobs.', 'Does this motivate you to be a teacher?']\n"
     ]
    }
   ],
   "source": [
    "txt = \"\"\"I am a teacher and I love teaching.\n",
    "There is nothing as rewarding as educating and empowering people.\n",
    "I found teaching more interesting than any other jobs.\n",
    "Does this motivate you to be a teacher?\"\"\"\n",
    "\n",
    "print(re.split(\"\\n\", txt))"
   ]
  },
  {
   "attachments": {},
   "cell_type": "markdown",
   "metadata": {},
   "source": [
    "### **Writing RegEx patterns**"
   ]
  },
  {
   "attachments": {},
   "cell_type": "markdown",
   "metadata": {},
   "source": [
    "To declare a string variable we use a single or double quote. To declare a RegEx variable we use *`r''`*. The following pattern only identifies apple with lowercase. To make it insensitive either we should re-write our pattern or add a flag."
   ]
  },
  {
   "cell_type": "code",
   "execution_count": 30,
   "metadata": {},
   "outputs": [
    {
     "name": "stdout",
     "output_type": "stream",
     "text": [
      "['apple']\n"
     ]
    }
   ],
   "source": [
    "regex_pattern = r'apple'\n",
    "txt = \"Apple and banana are fruits. An old cliché that says: 'an apple a day, a doctor away' has been replaced by 'a banana a day keeps the doctor far far away'.\"\n",
    "\n",
    "matches = re.findall(regex_pattern, txt)\n",
    "print(matches)"
   ]
  },
  {
   "cell_type": "code",
   "execution_count": 31,
   "metadata": {},
   "outputs": [
    {
     "name": "stdout",
     "output_type": "stream",
     "text": [
      "['Apple', 'apple']\n"
     ]
    }
   ],
   "source": [
    "# To make it case insensitive by adding flag\n",
    "matches = re.findall(regex_pattern, txt, re.I)\n",
    "print(matches)"
   ]
  },
  {
   "cell_type": "code",
   "execution_count": 32,
   "metadata": {},
   "outputs": [
    {
     "name": "stdout",
     "output_type": "stream",
     "text": [
      "['Apple', 'apple']\n"
     ]
    }
   ],
   "source": [
    "# or we can use a set of characters method\n",
    "regex_pattern = r'[Aa]pple'\n",
    "matches = re.findall(regex_pattern, txt)\n",
    "print(matches)"
   ]
  },
  {
   "attachments": {},
   "cell_type": "markdown",
   "metadata": {},
   "source": [
    "### **RegEx Nomenclature**\n",
    "\n",
    "- `[]`: A set of characters.\n",
    "    - `[a-c]` means either a, b or c.\n",
    "    - `[a-z]` means any letter from a to z.\n",
    "    - `[A-Z]` means any letter from A to Z.\n",
    "    - `[0-3]` means 0 or 1 or 2 or 3.\n",
    "    - `[0-9]` means any number from 0 to 9.\n",
    "    - `[A-Za-z0-9]` means any single character that is a to z, A to Z or 0 to 9.\n",
    "- `\\`: Uses to escape special characters.\n",
    "    - `\\d` means match where the string contains digits (numbers from 0 to 9).\n",
    "    - `\\D` means match where the string does not contains digits.\n",
    "- `.`: Any character except new line character (\\n)\n",
    "- `^`: Starts with\n",
    "    - `r'^substring'`. Eg: `r'^love'`, a sentence that starts with a word love.\n",
    "    - `r'[^abc]'` means neither a, b nor c.\n",
    "- `$`: Ends with\n",
    "    - `r'substring$'`. Eg: `r'love$'`, a sentence that ends with a word love.\n",
    "- `*`: Zero or more times\n",
    "    - `r'[a]*'` means optional or it can occur many times.\n",
    "- `+`: One or more times\n",
    "    - `r'[a]+'` means at least once (or more).\n",
    "- `?`: One or more times\n",
    "    - `r'[a]?'` means zero times or more.\n",
    "- `{3}`: Exactly 3 characters.\n",
    "- `{3,}`: At least 3 characters.\n",
    "- `{3,8}`: Between 3 and 8 characters.\n",
    "- `|`: Either or\n",
    "    - `r'apple|banana'` means either apple or banana.\n",
    "- `()`: Capture and group."
   ]
  },
  {
   "attachments": {},
   "cell_type": "markdown",
   "metadata": {},
   "source": [
    "### **Examples**"
   ]
  },
  {
   "cell_type": "code",
   "execution_count": 33,
   "metadata": {},
   "outputs": [
    {
     "name": "stdout",
     "output_type": "stream",
     "text": [
      "['Apple', 'banana', 'apple', 'banana']\n"
     ]
    }
   ],
   "source": [
    "txt = \"Apple and banana are fruits. An old cliché that says: 'an apple a day, a doctor away' has been replaced by 'a banana a day keeps the doctor far far away'.\"\n",
    "\n",
    "regex_pattern = r'[Aa]pple|[Bb]anana' # Either apple or banana\n",
    "matches = re.findall(regex_pattern, txt)\n",
    "print(matches)"
   ]
  },
  {
   "cell_type": "code",
   "execution_count": 34,
   "metadata": {},
   "outputs": [
    {
     "name": "stdout",
     "output_type": "stream",
     "text": [
      "['6', '2', '0', '1', '9', '8', '2', '0', '2', '1']\n"
     ]
    }
   ],
   "source": [
    "regex_pattern = r'\\d' # match digits\n",
    "txt = \"This regular expression example was made on December 6, 2019 and revised on July 8, 2021\"\n",
    "matches = re.findall(regex_pattern, txt)\n",
    "print(matches)"
   ]
  },
  {
   "cell_type": "code",
   "execution_count": 35,
   "metadata": {},
   "outputs": [
    {
     "name": "stdout",
     "output_type": "stream",
     "text": [
      "['6', '2019', '8', '2021']\n"
     ]
    }
   ],
   "source": [
    "regex_pattern = r'\\d+' # match digits, '+' one or more times.\n",
    "matches = re.findall(regex_pattern, txt)\n",
    "print(matches)"
   ]
  },
  {
   "cell_type": "code",
   "execution_count": 36,
   "metadata": {},
   "outputs": [
    {
     "name": "stdout",
     "output_type": "stream",
     "text": [
      "['an', 'an', 'an', 'a ', 'ar']\n"
     ]
    }
   ],
   "source": [
    "regex_pattern = r'[a].' # Match a and '.' except in a new line.\n",
    "txt = \"Apple and banana are fruits\"\n",
    "matches = re.findall(regex_pattern, txt)\n",
    "print(matches)"
   ]
  },
  {
   "cell_type": "code",
   "execution_count": 37,
   "metadata": {},
   "outputs": [
    {
     "name": "stdout",
     "output_type": "stream",
     "text": [
      "['and banana are fruits']\n"
     ]
    }
   ],
   "source": [
    "regex_pattern = r'[a].+'\n",
    "txt = \"Apple and banana are fruits\"\n",
    "matches = re.findall(regex_pattern, txt)\n",
    "print(matches)"
   ]
  },
  {
   "cell_type": "code",
   "execution_count": 38,
   "metadata": {},
   "outputs": [
    {
     "name": "stdout",
     "output_type": "stream",
     "text": [
      "['and banana are fruits']\n"
     ]
    }
   ],
   "source": [
    "regex_pattern = r'[a].*'\n",
    "txt = \"Apple and banana are fruits\"\n",
    "matches = re.findall(regex_pattern, txt)\n",
    "print(matches)"
   ]
  },
  {
   "cell_type": "code",
   "execution_count": 39,
   "metadata": {},
   "outputs": [
    {
     "name": "stdout",
     "output_type": "stream",
     "text": [
      "['e-mail', 'email', 'Email', 'E-mail']\n"
     ]
    }
   ],
   "source": [
    "txt = \"\"\"I am not sure if there is a convention how to write the word e-mail.\n",
    "Some people write it as email others may write it as Email or E-mail.\"\"\"\n",
    "\n",
    "regex_pattern = r'[Ee]-?mail' # '-' is optional\n",
    "matches = re.findall(regex_pattern, txt)\n",
    "print(matches)"
   ]
  },
  {
   "cell_type": "code",
   "execution_count": 40,
   "metadata": {},
   "outputs": [
    {
     "name": "stdout",
     "output_type": "stream",
     "text": [
      "['2019', '2021']\n"
     ]
    }
   ],
   "source": [
    "txt = \"This regular expression example was made on December 6, 2019 and revised on July 8, 2021\"\n",
    "regex_pattern = r'\\d{4}' # Exactly 4 times\n",
    "matches = re.findall(regex_pattern, txt)\n",
    "print(matches)"
   ]
  },
  {
   "cell_type": "code",
   "execution_count": 41,
   "metadata": {},
   "outputs": [
    {
     "name": "stdout",
     "output_type": "stream",
     "text": [
      "['This']\n"
     ]
    }
   ],
   "source": [
    "regex_pattern = r'^This' # Starts with\n",
    "matches = re.findall(regex_pattern, txt)\n",
    "print(matches)"
   ]
  },
  {
   "cell_type": "code",
   "execution_count": 42,
   "metadata": {},
   "outputs": [
    {
     "name": "stdout",
     "output_type": "stream",
     "text": [
      "['6,', '2019', '8,', '2021']\n"
     ]
    }
   ],
   "source": [
    "print(re.findall(r'[^A-Za-z ]+', txt)) # ^ in set character means negation, not A to Z, not a to z, no spaces"
   ]
  },
  {
   "attachments": {},
   "cell_type": "markdown",
   "metadata": {},
   "source": [
    "### **Exercises**"
   ]
  },
  {
   "attachments": {},
   "cell_type": "markdown",
   "metadata": {},
   "source": [
    "- What is the most frequent word in the following paragraph?\n",
    "\n",
    "***I love to learn. If you do not love to learn, what else can you love? I love Python. If you do not love something which can give you all the capabilities to create beatiful things, what else can you love?***"
   ]
  },
  {
   "cell_type": "code",
   "execution_count": 3,
   "metadata": {},
   "outputs": [],
   "source": [
    "from collections import Counter\n",
    "\n",
    "paragraph = \"I love to learn. If you do not love to learn, what else can you love? I love Python. If you do not love something which can give you all the capabilities to create beatiful things, what else can you love?\""
   ]
  },
  {
   "cell_type": "code",
   "execution_count": 4,
   "metadata": {},
   "outputs": [
    {
     "data": {
      "text/plain": [
       "[('love', 6),\n",
       " ('you', 5),\n",
       " ('to', 3),\n",
       " ('can', 3),\n",
       " ('I', 2),\n",
       " ('learn', 2),\n",
       " ('If', 2),\n",
       " ('do', 2),\n",
       " ('not', 2),\n",
       " ('what', 2),\n",
       " ('else', 2),\n",
       " ('Python', 1),\n",
       " ('something', 1),\n",
       " ('which', 1),\n",
       " ('give', 1),\n",
       " ('all', 1),\n",
       " ('the', 1),\n",
       " ('capabilities', 1),\n",
       " ('create', 1),\n",
       " ('beatiful', 1),\n",
       " ('things', 1)]"
      ]
     },
     "execution_count": 4,
     "metadata": {},
     "output_type": "execute_result"
    }
   ],
   "source": [
    "# Creating a list with separate words\n",
    "words_list = re.findall(r'[a-zA-Z]+', paragraph)\n",
    "\n",
    "# Apply Counter method from collections to calculate the frequency of the words and convert result into a dictionary\n",
    "word_count = dict(Counter(words_list))\n",
    "\n",
    "# Sort count in descending order\n",
    "sorted_word_count = sorted(word_count.items(), key=lambda x: x[1], reverse=True)\n",
    "sorted_word_count"
   ]
  },
  {
   "attachments": {},
   "cell_type": "markdown",
   "metadata": {},
   "source": [
    "- Extract the numbers from this whole text and find the distance between the two furthest particles.\n",
    "\n",
    "***The position of some particles on the horizontal x-axis are -12, -4, -3 and -1 in the negative direction, 0 at origin, 4 and 8 in the positive direction.***"
   ]
  },
  {
   "cell_type": "code",
   "execution_count": 8,
   "metadata": {},
   "outputs": [
    {
     "name": "stdout",
     "output_type": "stream",
     "text": [
      "The distance between the two furthest particle positions is: 20 (random units)\n"
     ]
    }
   ],
   "source": [
    "txt = \"The position of some particles on the horizontal x-axis are -12, -4, -3 and -1 in the negative direction, 0 at origin, 4 and 8 in the positive direction.\"\n",
    "matches = re.findall(r'[-]?\\d+', txt, re.I)\n",
    "\n",
    "# Convert matches into integers\n",
    "positions = [int(i) for i in matches]\n",
    "\n",
    "# Calculate distance between furthest positions (distance = x2 - x1)\n",
    "distance = positions[-1] - positions[0]\n",
    "print(f\"The distance between the two furthest particle positions is: {distance} (random units)\")"
   ]
  },
  {
   "attachments": {},
   "cell_type": "markdown",
   "metadata": {},
   "source": [
    "- Write a pattern which identifies if a string is a valid python variable.\n",
    "\n",
    "|                Test              | Result |\n",
    "| -------------------------------- | ------ |\n",
    "| is_valid_variable('first_name')  | True   |\n",
    "| is_valid_variable('first-name')  | False  |\n",
    "| is_valid_variable('1first_name') | False  |\n",
    "| is_valid_variable('firstname')   | True   |"
   ]
  },
  {
   "cell_type": "code",
   "execution_count": 24,
   "metadata": {},
   "outputs": [],
   "source": [
    "def is_valid_var(var):\n",
    "    match = re.match(r'^[a-z_][a-zA-Z0-9_]*$', var)\n",
    "    return bool(match)"
   ]
  },
  {
   "cell_type": "code",
   "execution_count": 27,
   "metadata": {},
   "outputs": [
    {
     "data": {
      "text/plain": [
       "True"
      ]
     },
     "execution_count": 27,
     "metadata": {},
     "output_type": "execute_result"
    }
   ],
   "source": [
    "is_valid_var(\"first_name\")"
   ]
  },
  {
   "attachments": {},
   "cell_type": "markdown",
   "metadata": {},
   "source": [
    "- Clean the following text. After cleaning, count three most frequent words in the string.\n",
    "\n",
    "***%I $am@% a %tea@cher%, &and& I lo%#ve %tea@ching%;. There $is nothing; &as& mo@re rewarding as educa@ting &and& @emp%o@wering peo@ple. ;I found tea@ching m%o@re interesting tha@n any other %jo@bs. %Do@es thi%s mo@tivate yo@u to be a tea@cher!?***"
   ]
  },
  {
   "cell_type": "code",
   "execution_count": 40,
   "metadata": {},
   "outputs": [
    {
     "data": {
      "text/plain": [
       "[('I', 3), ('a', 2), ('teacher', 2)]"
      ]
     },
     "execution_count": 40,
     "metadata": {},
     "output_type": "execute_result"
    }
   ],
   "source": [
    "txt = \"%I $am@% a %tea@cher%, &and& I lo%#ve %tea@ching%;. There $is nothing; &as& mo@re rewarding as educa@ting &and& @emp%o@wering peo@ple. ;I found tea@ching m%o@re interesting tha@n any other %jo@bs. %Do@es thi%s mo@tivate yo@u to be a tea@cher!?\"\n",
    "\n",
    "# Find alphanumeric characters\n",
    "match = re.sub(r'[%@&#;$!]', \"\", txt)\n",
    "\n",
    "# Extract words individually\n",
    "words_list = re.findall(r'[A-Za-z]+', match)\n",
    "\n",
    "# Count frequency of words\n",
    "word_count = dict(Counter(words_list))\n",
    "\n",
    "# Sort in descending order\n",
    "sorted_word_count = sorted(word_count.items(), key=lambda x: x[1], reverse=True)\n",
    "sorted_word_count[:3]"
   ]
  }
 ],
 "metadata": {
  "kernelspec": {
   "display_name": "base",
   "language": "python",
   "name": "python3"
  },
  "language_info": {
   "codemirror_mode": {
    "name": "ipython",
    "version": 3
   },
   "file_extension": ".py",
   "mimetype": "text/x-python",
   "name": "python",
   "nbconvert_exporter": "python",
   "pygments_lexer": "ipython3",
   "version": "3.10.9"
  },
  "orig_nbformat": 4
 },
 "nbformat": 4,
 "nbformat_minor": 2
}
