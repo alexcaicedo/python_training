{
 "cells": [
  {
   "attachments": {},
   "cell_type": "markdown",
   "metadata": {},
   "source": [
    "# **Functions**\n",
    "A function is a reusable block of code or programming statements designed to perform a certain task."
   ]
  },
  {
   "attachments": {},
   "cell_type": "markdown",
   "metadata": {},
   "source": [
    "## **Function without parameters**"
   ]
  },
  {
   "cell_type": "code",
   "execution_count": 1,
   "metadata": {},
   "outputs": [
    {
     "name": "stdout",
     "output_type": "stream",
     "text": [
      "Alexander Caicedo\n"
     ]
    }
   ],
   "source": [
    "def generate_full_name():\n",
    "    first_name = \"Alexander\"\n",
    "    last_name = \"Caicedo\"\n",
    "    space = \" \"\n",
    "    full_name = first_name + space + last_name\n",
    "    print(full_name)\n",
    "\n",
    "# Calling the function\n",
    "generate_full_name()"
   ]
  },
  {
   "cell_type": "code",
   "execution_count": 2,
   "metadata": {},
   "outputs": [
    {
     "name": "stdout",
     "output_type": "stream",
     "text": [
      "5\n"
     ]
    }
   ],
   "source": [
    "def add_two_numbers():\n",
    "    num_one = 2\n",
    "    num_two = 3\n",
    "    total = num_one + num_two\n",
    "    print(total)\n",
    "\n",
    "add_two_numbers()"
   ]
  },
  {
   "attachments": {},
   "cell_type": "markdown",
   "metadata": {},
   "source": [
    "## **Function returning a value**\n",
    "A function can also return values, if a function has a return statement"
   ]
  },
  {
   "cell_type": "code",
   "execution_count": 5,
   "metadata": {},
   "outputs": [
    {
     "data": {
      "text/plain": [
       "'Alexander Caicedo'"
      ]
     },
     "execution_count": 5,
     "metadata": {},
     "output_type": "execute_result"
    }
   ],
   "source": [
    "def generate_full_name():\n",
    "    first_name = \"Alexander\"\n",
    "    last_name = \"Caicedo\"\n",
    "    space = \" \"\n",
    "    full_name = first_name + space + last_name\n",
    "    return full_name\n",
    "\n",
    "generate_full_name()"
   ]
  },
  {
   "cell_type": "code",
   "execution_count": 8,
   "metadata": {},
   "outputs": [
    {
     "name": "stdout",
     "output_type": "stream",
     "text": [
      "<function generate_full_name at 0x7f4bdc3af550>\n"
     ]
    }
   ],
   "source": [
    "print(generate_full_name)"
   ]
  },
  {
   "cell_type": "code",
   "execution_count": 9,
   "metadata": {},
   "outputs": [
    {
     "name": "stdout",
     "output_type": "stream",
     "text": [
      "Alexander Caicedo\n"
     ]
    }
   ],
   "source": [
    "print(generate_full_name())"
   ]
  },
  {
   "cell_type": "code",
   "execution_count": 10,
   "metadata": {},
   "outputs": [
    {
     "data": {
      "text/plain": [
       "5"
      ]
     },
     "execution_count": 10,
     "metadata": {},
     "output_type": "execute_result"
    }
   ],
   "source": [
    "def add_two_numbers():\n",
    "    num_one = 2\n",
    "    num_two = 3\n",
    "    total = num_one + num_two\n",
    "    return total\n",
    "\n",
    "add_two_numbers()"
   ]
  },
  {
   "attachments": {},
   "cell_type": "markdown",
   "metadata": {},
   "source": [
    "## **Function with parameters**\n",
    "In a function we can pass different data types (number, string, boolean, list, tuple, dictionary or set as a parameter)."
   ]
  },
  {
   "cell_type": "code",
   "execution_count": 11,
   "metadata": {},
   "outputs": [
    {
     "data": {
      "text/plain": [
       "'Alex!, welcome to this Python tutorial'"
      ]
     },
     "execution_count": 11,
     "metadata": {},
     "output_type": "execute_result"
    }
   ],
   "source": [
    "def greetings(name):\n",
    "    message = name + \"!, welcome to this Python tutorial\"\n",
    "    return message\n",
    "\n",
    "greetings(\"Alex\")"
   ]
  },
  {
   "cell_type": "code",
   "execution_count": 12,
   "metadata": {},
   "outputs": [
    {
     "data": {
      "text/plain": [
       "100"
      ]
     },
     "execution_count": 12,
     "metadata": {},
     "output_type": "execute_result"
    }
   ],
   "source": [
    "def add_ten(num):\n",
    "    ten = 10\n",
    "    return num + ten\n",
    "\n",
    "add_ten(90)"
   ]
  },
  {
   "cell_type": "code",
   "execution_count": 13,
   "metadata": {},
   "outputs": [
    {
     "data": {
      "text/plain": [
       "9"
      ]
     },
     "execution_count": 13,
     "metadata": {},
     "output_type": "execute_result"
    }
   ],
   "source": [
    "def squared_number(x):\n",
    "    return x * x\n",
    "\n",
    "squared_number(3)"
   ]
  },
  {
   "cell_type": "code",
   "execution_count": 14,
   "metadata": {},
   "outputs": [
    {
     "name": "stdout",
     "output_type": "stream",
     "text": [
      "Area of circle = 78.53750000000001\n"
     ]
    }
   ],
   "source": [
    "def area_of_circle(r):\n",
    "    PI = 3.1415\n",
    "    area = PI * (r ** 2)\n",
    "    return area\n",
    "\n",
    "print(\"Area of circle =\", area_of_circle(5))"
   ]
  },
  {
   "cell_type": "code",
   "execution_count": 17,
   "metadata": {},
   "outputs": [
    {
     "data": {
      "text/plain": [
       "5050"
      ]
     },
     "execution_count": 17,
     "metadata": {},
     "output_type": "execute_result"
    }
   ],
   "source": [
    "def sum_of_numbers(n):\n",
    "    total = 0\n",
    "    for i in range(n + 1):\n",
    "        total += i\n",
    "    return total\n",
    "\n",
    "sum_of_numbers(100)"
   ]
  },
  {
   "attachments": {},
   "cell_type": "markdown",
   "metadata": {},
   "source": [
    "## **Function with two parameters**"
   ]
  },
  {
   "cell_type": "code",
   "execution_count": 19,
   "metadata": {},
   "outputs": [
    {
     "name": "stdout",
     "output_type": "stream",
     "text": [
      "Full name: Alexander Caicedo\n"
     ]
    }
   ],
   "source": [
    "def generate_full_name(first_name, last_name):\n",
    "    space = \" \"\n",
    "    full_name = first_name + space + last_name\n",
    "    return full_name\n",
    "\n",
    "print(\"Full name:\", generate_full_name(\"Alexander\", \"Caicedo\"))"
   ]
  },
  {
   "cell_type": "code",
   "execution_count": 21,
   "metadata": {},
   "outputs": [
    {
     "name": "stdout",
     "output_type": "stream",
     "text": [
      "Sum: 10\n"
     ]
    }
   ],
   "source": [
    "def sum_two_numbers(num_one, num_two):\n",
    "    sum = num_one + num_two\n",
    "    return sum\n",
    "\n",
    "print(\"Sum:\", sum_two_numbers(1, 9))"
   ]
  },
  {
   "cell_type": "code",
   "execution_count": 22,
   "metadata": {},
   "outputs": [
    {
     "name": "stdout",
     "output_type": "stream",
     "text": [
      "Age: 63\n"
     ]
    }
   ],
   "source": [
    "def calculate_age(current_year, birth_year):\n",
    "    age = current_year - birth_year\n",
    "    return age\n",
    "\n",
    "print(\"Age:\", calculate_age(2023, 1960))"
   ]
  },
  {
   "cell_type": "code",
   "execution_count": 23,
   "metadata": {},
   "outputs": [
    {
     "name": "stdout",
     "output_type": "stream",
     "text": [
      "Weight of an object in Newtons: 981.0 N\n"
     ]
    }
   ],
   "source": [
    "def weight_of_object(mass, gravity):\n",
    "    weight = str(mass * gravity) + \" N\"   # the value has to be changed to a string first\n",
    "    return weight\n",
    "\n",
    "print(\"Weight of an object in Newtons:\", weight_of_object(100, 9.81))"
   ]
  },
  {
   "attachments": {},
   "cell_type": "markdown",
   "metadata": {},
   "source": [
    "## **Passing arguments with key and value**"
   ]
  },
  {
   "cell_type": "code",
   "execution_count": 24,
   "metadata": {},
   "outputs": [
    {
     "name": "stdout",
     "output_type": "stream",
     "text": [
      "Alexander Caicedo\n"
     ]
    }
   ],
   "source": [
    "def generate_full_name(first_name, last_name):\n",
    "    return first_name + \" \" + last_name\n",
    "\n",
    "print(generate_full_name(first_name=\"Alexander\", last_name=\"Caicedo\"))"
   ]
  },
  {
   "cell_type": "code",
   "execution_count": 25,
   "metadata": {},
   "outputs": [
    {
     "name": "stdout",
     "output_type": "stream",
     "text": [
      "10\n"
     ]
    }
   ],
   "source": [
    "def sum_two_numbers(num_one, num_two):\n",
    "    return num_one + num_two\n",
    "\n",
    "print(sum_two_numbers(num_one=1, num_two=9))"
   ]
  },
  {
   "attachments": {},
   "cell_type": "markdown",
   "metadata": {},
   "source": [
    "## **Returning values**"
   ]
  },
  {
   "cell_type": "code",
   "execution_count": 26,
   "metadata": {},
   "outputs": [
    {
     "name": "stdout",
     "output_type": "stream",
     "text": [
      "Alexander\n",
      "5\n",
      "True\n",
      "False\n",
      "[0, 2, 4, 6, 8, 10]\n"
     ]
    }
   ],
   "source": [
    "# String\n",
    "def print_name(name):\n",
    "    return name\n",
    "print(print_name(\"Alexander\")) # Alexander\n",
    "\n",
    "# Number\n",
    "def add_two_numbers(num1, num2):\n",
    "    return num1 + num2\n",
    "print(add_two_numbers(2, 3)) # 5\n",
    "\n",
    "# Bool\n",
    "def is_even(number):\n",
    "    if number % 2 == 0:\n",
    "        return True\n",
    "    else:\n",
    "        return False\n",
    "print(is_even(10)) # True\n",
    "print(is_even(5)) # False\n",
    "\n",
    "# List\n",
    "def find_even_numbers(n):\n",
    "    evens = []\n",
    "    for i in range(n + 2):\n",
    "        if i % 2 == 0:\n",
    "            evens.append(i)\n",
    "    return evens\n",
    "print(find_even_numbers(10))  # [0, 2, 4, 6, 8, 10]"
   ]
  },
  {
   "attachments": {},
   "cell_type": "markdown",
   "metadata": {},
   "source": [
    "## **Function with default parameters**"
   ]
  },
  {
   "cell_type": "code",
   "execution_count": 27,
   "metadata": {},
   "outputs": [
    {
     "data": {
      "text/plain": [
       "10"
      ]
     },
     "execution_count": 27,
     "metadata": {},
     "output_type": "execute_result"
    }
   ],
   "source": [
    "def sum_all_nums(*nums):\n",
    "    total = 0\n",
    "    for i in nums:\n",
    "        total += i\n",
    "    return total\n",
    "\n",
    "sum_all_nums(2, 3, 5)"
   ]
  },
  {
   "cell_type": "code",
   "execution_count": 28,
   "metadata": {},
   "outputs": [
    {
     "name": "stdout",
     "output_type": "stream",
     "text": [
      "Team-1\n",
      "Alex\n",
      "Brooks\n",
      "David\n",
      "Eyob\n"
     ]
    }
   ],
   "source": [
    "def generate_groups(team, *args):\n",
    "    print(team)\n",
    "    for i in args:\n",
    "        print(i)\n",
    "\n",
    "generate_groups(\"Team-1\", \"Alex\", \"Brooks\", \"David\", \"Eyob\")"
   ]
  },
  {
   "attachments": {},
   "cell_type": "markdown",
   "metadata": {},
   "source": [
    "## **Function as a parameter of another function (*HOF - High Order Functions*)**"
   ]
  },
  {
   "cell_type": "code",
   "execution_count": 29,
   "metadata": {},
   "outputs": [
    {
     "data": {
      "text/plain": [
       "9"
      ]
     },
     "execution_count": 29,
     "metadata": {},
     "output_type": "execute_result"
    }
   ],
   "source": [
    "def squared_number(n):\n",
    "    return n * n\n",
    "\n",
    "def do_something(f, x):\n",
    "    return f(x)\n",
    "\n",
    "do_something(squared_number, 3)"
   ]
  }
 ],
 "metadata": {
  "kernelspec": {
   "display_name": "base",
   "language": "python",
   "name": "python3"
  },
  "language_info": {
   "codemirror_mode": {
    "name": "ipython",
    "version": 3
   },
   "file_extension": ".py",
   "mimetype": "text/x-python",
   "name": "python",
   "nbconvert_exporter": "python",
   "pygments_lexer": "ipython3",
   "version": "3.9.12"
  },
  "orig_nbformat": 4,
  "vscode": {
   "interpreter": {
    "hash": "47e6f0666911a228d0a15712c74deef82de687a7dc037b9bb2a6c96e8ee3afae"
   }
  }
 },
 "nbformat": 4,
 "nbformat_minor": 2
}
