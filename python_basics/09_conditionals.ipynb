{
 "cells": [
  {
   "attachments": {},
   "cell_type": "markdown",
   "metadata": {},
   "source": [
    "# **Conditionals**\n",
    "By default, statements in Python script are executed sequentially from top to bottom.\n",
    "If the processing logic require so, the sequential flow of execution can be altered in two ways:\n",
    "- ***Conditional execution:*** A block of one or more statements will be executed if a certain expression is True.\n",
    "- ***Repetitive execution:*** A block of one or more statements will be repetitively executed as long as a certain expression is True. In this section, we will cover if, else, elif statements. The comparison and logical operators we learned in previous sections will be useful here."
   ]
  },
  {
   "attachments": {},
   "cell_type": "markdown",
   "metadata": {},
   "source": [
    "## **If Statement**"
   ]
  },
  {
   "cell_type": "code",
   "execution_count": 1,
   "metadata": {},
   "outputs": [
    {
     "name": "stdout",
     "output_type": "stream",
     "text": [
      "a is a positive number\n"
     ]
    }
   ],
   "source": [
    "a = 3\n",
    "if a > 0:\n",
    "    print(\"a is a positive number\")"
   ]
  },
  {
   "attachments": {},
   "cell_type": "markdown",
   "metadata": {},
   "source": [
    "## **If, Else Statements**"
   ]
  },
  {
   "cell_type": "code",
   "execution_count": 2,
   "metadata": {},
   "outputs": [
    {
     "name": "stdout",
     "output_type": "stream",
     "text": [
      "a is a positive number\n"
     ]
    }
   ],
   "source": [
    "a = 3\n",
    "if a < 0:\n",
    "    print(\"a is a negative number\")\n",
    "else:\n",
    "    print(\"a is a positive number\")"
   ]
  },
  {
   "attachments": {},
   "cell_type": "markdown",
   "metadata": {},
   "source": [
    "## **If, Elif, Else Statements**"
   ]
  },
  {
   "cell_type": "code",
   "execution_count": 3,
   "metadata": {},
   "outputs": [
    {
     "name": "stdout",
     "output_type": "stream",
     "text": [
      "a is zero\n"
     ]
    }
   ],
   "source": [
    "a = 0\n",
    "if a > 0:\n",
    "    print(\"a is a positive number\")\n",
    "elif a < 0:\n",
    "    print(\"a is a negative number\")\n",
    "else:\n",
    "    print(\"a is zero\")"
   ]
  },
  {
   "attachments": {},
   "cell_type": "markdown",
   "metadata": {},
   "source": [
    "## **Short hand**"
   ]
  },
  {
   "cell_type": "code",
   "execution_count": 4,
   "metadata": {},
   "outputs": [
    {
     "name": "stdout",
     "output_type": "stream",
     "text": [
      "a is positive\n"
     ]
    }
   ],
   "source": [
    "a = 3\n",
    "print(\"a is positive\") if a > 0 else print(\"a is negative\")"
   ]
  },
  {
   "attachments": {},
   "cell_type": "markdown",
   "metadata": {},
   "source": [
    "## **Nested conditionals**"
   ]
  },
  {
   "cell_type": "code",
   "execution_count": 5,
   "metadata": {},
   "outputs": [
    {
     "name": "stdout",
     "output_type": "stream",
     "text": [
      "a is zero\n"
     ]
    }
   ],
   "source": [
    "a = 0\n",
    "if a > 0:\n",
    "    if a % 2 == 0:\n",
    "        print(\"a is positive and even integer\")\n",
    "    else:\n",
    "        print(\"a is a positive integer\")\n",
    "elif a == 0:\n",
    "    print(\"a is zero\")\n",
    "else:\n",
    "    print(\"a is a negative integer\")"
   ]
  },
  {
   "attachments": {},
   "cell_type": "markdown",
   "metadata": {},
   "source": [
    "## **If conditions and logical operators**"
   ]
  },
  {
   "cell_type": "code",
   "execution_count": 6,
   "metadata": {},
   "outputs": [
    {
     "name": "stdout",
     "output_type": "stream",
     "text": [
      "Access denied\n"
     ]
    }
   ],
   "source": [
    "user = \"Alex\"\n",
    "access_level = 3\n",
    "if user == \"admin\" or access_level >= 4:\n",
    "    print(\"Access granted\")\n",
    "else:\n",
    "    print(\"Access denied\")"
   ]
  }
 ],
 "metadata": {
  "kernelspec": {
   "display_name": "base",
   "language": "python",
   "name": "python3"
  },
  "language_info": {
   "codemirror_mode": {
    "name": "ipython",
    "version": 3
   },
   "file_extension": ".py",
   "mimetype": "text/x-python",
   "name": "python",
   "nbconvert_exporter": "python",
   "pygments_lexer": "ipython3",
   "version": "3.9.12 (main, Apr  5 2022, 06:56:58) \n[GCC 7.5.0]"
  },
  "orig_nbformat": 4,
  "vscode": {
   "interpreter": {
    "hash": "47e6f0666911a228d0a15712c74deef82de687a7dc037b9bb2a6c96e8ee3afae"
   }
  }
 },
 "nbformat": 4,
 "nbformat_minor": 2
}
