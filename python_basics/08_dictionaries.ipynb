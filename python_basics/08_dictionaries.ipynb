{
 "cells": [
  {
   "attachments": {},
   "cell_type": "markdown",
   "metadata": {},
   "source": [
    "# **Dictionaries**\n",
    "A dictionary is a collection of unordered, modifiable(mutable), paired (key: value) data type. A value could be any data types:\n",
    "- Integer\n",
    "- String\n",
    "- Boolean\n",
    "- List\n",
    "- Tuple\n",
    "- Set\n",
    "- Dictionary."
   ]
  },
  {
   "cell_type": "code",
   "execution_count": 1,
   "metadata": {},
   "outputs": [
    {
     "name": "stdout",
     "output_type": "stream",
     "text": [
      "{'first_name': 'Alexander', 'last_name': 'Caicedo', 'age': 31, 'country': 'Colombia', 'is_married': False, 'skills': ['Eat', 'Sleep', 'Hangry', 'Tired'], 'address': {'street': 'Cll. 70', 'zipcode': 410001}}\n",
      "7\n"
     ]
    }
   ],
   "source": [
    "# Syntax\n",
    "empty_dict = {}\n",
    "dct = {\n",
    "    'key1':'value1',\n",
    "    'key2':'value2',\n",
    "    'key3':'value3'\n",
    "}\n",
    "\n",
    "person = {\n",
    "    'first_name': 'Alexander',\n",
    "    'last_name': 'Caicedo',\n",
    "    'age': 31,\n",
    "    'country': 'Colombia',\n",
    "    'is_married': False,\n",
    "    'skills': ['Eat', 'Sleep', 'Hangry', 'Tired'],\n",
    "    'address': {\n",
    "        'street': 'Cll. 70',\n",
    "        'zipcode': 410001\n",
    "    }\n",
    "}\n",
    "print(person)\n",
    "print(len(person)) # 7"
   ]
  },
  {
   "attachments": {},
   "cell_type": "markdown",
   "metadata": {},
   "source": [
    "## **Accessing dictionary items**"
   ]
  },
  {
   "cell_type": "code",
   "execution_count": 2,
   "metadata": {},
   "outputs": [
    {
     "name": "stdout",
     "output_type": "stream",
     "text": [
      "Alexander\n",
      "Colombia\n",
      "['Eat', 'Sleep', 'Hangry', 'Tired']\n",
      "Eat\n",
      "Cll. 70\n"
     ]
    },
    {
     "ename": "KeyError",
     "evalue": "'city'",
     "output_type": "error",
     "traceback": [
      "\u001b[0;31m---------------------------------------------------------------------------\u001b[0m",
      "\u001b[0;31mKeyError\u001b[0m                                  Traceback (most recent call last)",
      "\u001b[1;32m/home/chutx/python_training/python_basics/07_dictionaries.ipynb Cell 4\u001b[0m in \u001b[0;36m<cell line: 18>\u001b[0;34m()\u001b[0m\n\u001b[1;32m     <a href='vscode-notebook-cell://wsl%2Bubuntu-20.04/home/chutx/python_training/python_basics/07_dictionaries.ipynb#W2sdnNjb2RlLXJlbW90ZQ%3D%3D?line=15'>16</a>\u001b[0m \u001b[39mprint\u001b[39m(person[\u001b[39m'\u001b[39m\u001b[39mskills\u001b[39m\u001b[39m'\u001b[39m][\u001b[39m0\u001b[39m])  \u001b[39m# Eat\u001b[39;00m\n\u001b[1;32m     <a href='vscode-notebook-cell://wsl%2Bubuntu-20.04/home/chutx/python_training/python_basics/07_dictionaries.ipynb#W2sdnNjb2RlLXJlbW90ZQ%3D%3D?line=16'>17</a>\u001b[0m \u001b[39mprint\u001b[39m(person[\u001b[39m'\u001b[39m\u001b[39maddress\u001b[39m\u001b[39m'\u001b[39m][\u001b[39m'\u001b[39m\u001b[39mstreet\u001b[39m\u001b[39m'\u001b[39m]) \u001b[39m# Cll. 70\u001b[39;00m\n\u001b[0;32m---> <a href='vscode-notebook-cell://wsl%2Bubuntu-20.04/home/chutx/python_training/python_basics/07_dictionaries.ipynb#W2sdnNjb2RlLXJlbW90ZQ%3D%3D?line=17'>18</a>\u001b[0m \u001b[39mprint\u001b[39m(person[\u001b[39m'\u001b[39;49m\u001b[39mcity\u001b[39;49m\u001b[39m'\u001b[39;49m])\n",
      "\u001b[0;31mKeyError\u001b[0m: 'city'"
     ]
    }
   ],
   "source": [
    "person = {\n",
    "    'first_name': 'Alexander',\n",
    "    'last_name': 'Caicedo',\n",
    "    'age': 31,\n",
    "    'country': 'Colombia',\n",
    "    'is_married': False,\n",
    "    'skills': ['Eat', 'Sleep', 'Hangry', 'Tired'],\n",
    "    'address': {\n",
    "        'street': 'Cll. 70',\n",
    "        'zipcode': 410001\n",
    "    }\n",
    "}\n",
    "print(person['first_name']) # Alexader\n",
    "print(person['country'])    # Colombia\n",
    "print(person['skills'])     # ['Eat', 'Sleep', 'Hangry', 'Tired']\n",
    "print(person['skills'][0])  # Eat\n",
    "print(person['address']['street']) # Cll. 70\n",
    "print(person['city'])       # KeyError"
   ]
  },
  {
   "attachments": {},
   "cell_type": "markdown",
   "metadata": {},
   "source": [
    "Accessing an item by key name raises an error if the key does not exist. To avoid this error first we have to check if a key exists or we can use the `.get()` method. The `.get()` method returns None, which is a NoneType object data type, if the key does not exist."
   ]
  },
  {
   "cell_type": "code",
   "execution_count": 3,
   "metadata": {},
   "outputs": [
    {
     "name": "stdout",
     "output_type": "stream",
     "text": [
      "Alexander\n",
      "Colombia\n",
      "['Eat', 'Sleep', 'Hangry', 'Tired']\n",
      "None\n"
     ]
    }
   ],
   "source": [
    "print(person.get('first_name')) # Alexader\n",
    "print(person.get('country'))    # Colombia\n",
    "print(person.get('skills'))     # ['Eat', 'Sleep', 'Hangry', 'Tired']\n",
    "print(person.get('city'))       # None"
   ]
  },
  {
   "attachments": {},
   "cell_type": "markdown",
   "metadata": {},
   "source": [
    "## **Adding items to a dictionary**"
   ]
  },
  {
   "cell_type": "code",
   "execution_count": 4,
   "metadata": {},
   "outputs": [
    {
     "name": "stdout",
     "output_type": "stream",
     "text": [
      "{'first_name': 'Alexander', 'last_name': 'Caicedo', 'age': 31, 'country': 'Colombia', 'is_married': False, 'skills': ['Eat', 'Sleep', 'Hangry', 'Tired', 'Laugh'], 'address': {'street': 'Cll. 70', 'zipcode': 410001}, 'job_title': 'Data Scientist'}\n",
      "{'first_name': 'Alex', 'last_name': 'Caicedo', 'age': 32, 'country': 'Colombia', 'is_married': False, 'skills': ['Eat', 'Sleep', 'Hangry', 'Tired'], 'address': {'street': 'Cll. 70', 'zipcode': 410001}}\n"
     ]
    }
   ],
   "source": [
    "person = {\n",
    "    'first_name': 'Alexander',\n",
    "    'last_name': 'Caicedo',\n",
    "    'age': 31,\n",
    "    'country': 'Colombia',\n",
    "    'is_married': False,\n",
    "    'skills': ['Eat', 'Sleep', 'Hangry', 'Tired'],\n",
    "    'address': {\n",
    "        'street': 'Cll. 70',\n",
    "        'zipcode': 410001\n",
    "    }\n",
    "}\n",
    "\n",
    "person['job_title'] = 'Data Scientist'\n",
    "person['skills'].append('Laugh')\n",
    "print(person)\n",
    "\n",
    "# Modifying items\n",
    "person = {\n",
    "    'first_name': 'Alexander',\n",
    "    'last_name': 'Caicedo',\n",
    "    'age': 31,\n",
    "    'country': 'Colombia',\n",
    "    'is_married': False,\n",
    "    'skills': ['Eat', 'Sleep', 'Hangry', 'Tired'],\n",
    "    'address': {\n",
    "        'street': 'Cll. 70',\n",
    "        'zipcode': 410001\n",
    "    }\n",
    "}\n",
    "\n",
    "person['first_name'] = 'Alex'\n",
    "person['age'] = 32\n",
    "print(person)"
   ]
  },
  {
   "attachments": {},
   "cell_type": "markdown",
   "metadata": {},
   "source": [
    "## **Checking keys in dictionary**"
   ]
  },
  {
   "cell_type": "code",
   "execution_count": 5,
   "metadata": {},
   "outputs": [
    {
     "name": "stdout",
     "output_type": "stream",
     "text": [
      "True\n",
      "False\n"
     ]
    }
   ],
   "source": [
    "dct = {'key1':'value1', 'key2':'value2', 'key3':'value3', 'key4':'value4'}\n",
    "print('key2' in dct) # True\n",
    "print('key5' in dct) # False"
   ]
  },
  {
   "attachments": {},
   "cell_type": "markdown",
   "metadata": {},
   "source": [
    "## **Removing key and value pairs from a dictionary**"
   ]
  },
  {
   "cell_type": "code",
   "execution_count": 7,
   "metadata": {},
   "outputs": [
    {
     "name": "stdout",
     "output_type": "stream",
     "text": [
      "{'key2': 'value2', 'key3': 'value3', 'key4': 'value4'}\n",
      "{'key1': 'value1', 'key2': 'value2', 'key3': 'value3'}\n",
      "{'key1': 'value1', 'key3': 'value3'}\n",
      "{'last_name': 'Caicedo', 'age': 31, 'country': 'Colombia', 'is_married': False, 'skills': ['Eat', 'Sleep', 'Hangry', 'Tired'], 'address': {'street': 'Cll. 70', 'zipcode': 410001}}\n",
      "{'last_name': 'Caicedo', 'age': 31, 'country': 'Colombia', 'is_married': False, 'skills': ['Eat', 'Sleep', 'Hangry', 'Tired']}\n",
      "{'last_name': 'Caicedo', 'age': 31, 'country': 'Colombia', 'skills': ['Eat', 'Sleep', 'Hangry', 'Tired']}\n"
     ]
    }
   ],
   "source": [
    "dct = {'key1':'value1', 'key2':'value2', 'key3':'value3', 'key4':'value4'}\n",
    "dct.pop('key1') # removes key1 item\n",
    "print(dct)\n",
    "dct = {'key1':'value1', 'key2':'value2', 'key3':'value3', 'key4':'value4'}\n",
    "dct.popitem()   # removes the last item\n",
    "print(dct)\n",
    "del dct['key2'] # removes key2 item\n",
    "print(dct)\n",
    "\n",
    "person = {\n",
    "    'first_name': 'Alexander',\n",
    "    'last_name': 'Caicedo',\n",
    "    'age': 31,\n",
    "    'country': 'Colombia',\n",
    "    'is_married': False,\n",
    "    'skills': ['Eat', 'Sleep', 'Hangry', 'Tired'],\n",
    "    'address': {\n",
    "        'street': 'Cll. 70',\n",
    "        'zipcode': 410001\n",
    "    }\n",
    "}\n",
    "\n",
    "person.pop('first_name')        # Removes the firstname item\n",
    "print(person)\n",
    "person.popitem()                # Removes the address item\n",
    "print(person)\n",
    "del person['is_married']        # Removes the is_married item\n",
    "print(person)"
   ]
  },
  {
   "attachments": {},
   "cell_type": "markdown",
   "metadata": {},
   "source": [
    "## **Changing a dictionary into a list of items**"
   ]
  },
  {
   "cell_type": "code",
   "execution_count": 8,
   "metadata": {},
   "outputs": [
    {
     "name": "stdout",
     "output_type": "stream",
     "text": [
      "dict_items([('key1', 'value1'), ('key2', 'value2'), ('key3', 'value3'), ('key4', 'value4')])\n"
     ]
    }
   ],
   "source": [
    "dct = {'key1':'value1', 'key2':'value2', 'key3':'value3', 'key4':'value4'}\n",
    "print(dct.items())   # Changes dictionary to a list of tuples - dict_items([('key1', 'value1'), ('key2', 'value2'), ('key3', 'value3'), ('key4', 'value4')])"
   ]
  },
  {
   "attachments": {},
   "cell_type": "markdown",
   "metadata": {},
   "source": [
    "## **Clearing a dictionary**"
   ]
  },
  {
   "cell_type": "code",
   "execution_count": 9,
   "metadata": {},
   "outputs": [
    {
     "name": "stdout",
     "output_type": "stream",
     "text": [
      "None\n"
     ]
    }
   ],
   "source": [
    "dct = {'key1':'value1', 'key2':'value2', 'key3':'value3', 'key4':'value4'}\n",
    "print(dct.clear()) # None"
   ]
  },
  {
   "attachments": {},
   "cell_type": "markdown",
   "metadata": {},
   "source": [
    "## **Copying a dictionary**"
   ]
  },
  {
   "cell_type": "code",
   "execution_count": 10,
   "metadata": {},
   "outputs": [
    {
     "name": "stdout",
     "output_type": "stream",
     "text": [
      "{'key1': 'value1', 'key2': 'value2', 'key3': 'value3', 'key4': 'value4'}\n"
     ]
    }
   ],
   "source": [
    "# Copying a dictionary can avoid mutation of the original dictionary\n",
    "dct = {'key1':'value1', 'key2':'value2', 'key3':'value3', 'key4':'value4'}\n",
    "dct_copy = dct.copy() # {'key1':'value1', 'key2':'value2', 'key3':'value3', 'key4':'value4'}\n",
    "print(dct_copy)"
   ]
  },
  {
   "attachments": {},
   "cell_type": "markdown",
   "metadata": {},
   "source": [
    "## **Getting dictionary values as a list**"
   ]
  },
  {
   "cell_type": "code",
   "execution_count": 11,
   "metadata": {},
   "outputs": [
    {
     "name": "stdout",
     "output_type": "stream",
     "text": [
      "dict_values(['value1', 'value2', 'value3', 'value4'])\n"
     ]
    }
   ],
   "source": [
    "dct = {'key1':'value1', 'key2':'value2', 'key3':'value3', 'key4':'value4'}\n",
    "values = dct.values()\n",
    "print(values)     # dict_values(['value1', 'value2', 'value3', 'value4'])"
   ]
  },
  {
   "attachments": {},
   "cell_type": "markdown",
   "metadata": {},
   "source": [
    "## **Sorting dictionaries**"
   ]
  },
  {
   "cell_type": "code",
   "execution_count": 12,
   "metadata": {},
   "outputs": [
    {
     "data": {
      "text/plain": [
       "[('A', 5), ('B', 2), ('C', 1), ('D', 4), ('E', 6), ('F', 3)]"
      ]
     },
     "execution_count": 12,
     "metadata": {},
     "output_type": "execute_result"
    }
   ],
   "source": [
    "dct = {\"E\": 6, \"F\": 3, \"A\": 5, \"C\": 1, \"B\": 2, \"D\": 4}\n",
    "sorted(dct.items()) # Sorts by key\n",
    "# Output: [('A', 5), ('B', 2), ('C', 1), ('D', 4), ('E', 6), ('F', 3)]"
   ]
  },
  {
   "cell_type": "code",
   "execution_count": 13,
   "metadata": {},
   "outputs": [
    {
     "name": "stdout",
     "output_type": "stream",
     "text": [
      "[('C', 1), ('B', 2), ('F', 3), ('D', 4), ('A', 5), ('E', 6)]\n",
      "[('E', 6), ('A', 5), ('D', 4), ('F', 3), ('B', 2), ('C', 1)]\n"
     ]
    }
   ],
   "source": [
    "# Using lambda\n",
    "print(sorted(dct.items(), key=lambda x: x[1])) # Sorts by value in ascending order\n",
    "# Output: [('C', 1), ('B', 2), ('F', 3), ('D', 4), ('A', 5), ('E', 6)]\n",
    "\n",
    "print(sorted(dct.items(), key=lambda x: x[1], reverse=True)) # Sorts by value in descending order\n",
    "# Output: [('E', 6), ('A', 5), ('D', 4), ('F', 3), ('B', 2), ('C', 1)]"
   ]
  }
 ],
 "metadata": {
  "kernelspec": {
   "display_name": "base",
   "language": "python",
   "name": "python3"
  },
  "language_info": {
   "codemirror_mode": {
    "name": "ipython",
    "version": 3
   },
   "file_extension": ".py",
   "mimetype": "text/x-python",
   "name": "python",
   "nbconvert_exporter": "python",
   "pygments_lexer": "ipython3",
   "version": "3.9.12 (main, Apr  5 2022, 06:56:58) \n[GCC 7.5.0]"
  },
  "orig_nbformat": 4,
  "vscode": {
   "interpreter": {
    "hash": "47e6f0666911a228d0a15712c74deef82de687a7dc037b9bb2a6c96e8ee3afae"
   }
  }
 },
 "nbformat": 4,
 "nbformat_minor": 2
}
