{
 "cells": [
  {
   "attachments": {},
   "cell_type": "markdown",
   "metadata": {},
   "source": [
    "# **Python Datetime**"
   ]
  },
  {
   "cell_type": "code",
   "execution_count": 1,
   "metadata": {},
   "outputs": [
    {
     "name": "stdout",
     "output_type": "stream",
     "text": [
      "['MAXYEAR', 'MINYEAR', '__all__', '__builtins__', '__cached__', '__doc__', '__file__', '__loader__', '__name__', '__package__', '__spec__', 'date', 'datetime', 'datetime_CAPI', 'sys', 'time', 'timedelta', 'timezone', 'tzinfo']\n"
     ]
    }
   ],
   "source": [
    "import datetime\n",
    "print(dir(datetime))"
   ]
  },
  {
   "attachments": {},
   "cell_type": "markdown",
   "metadata": {},
   "source": [
    "### **Getting *datetime* information**"
   ]
  },
  {
   "cell_type": "code",
   "execution_count": 1,
   "metadata": {},
   "outputs": [],
   "source": [
    "from datetime import datetime"
   ]
  },
  {
   "cell_type": "code",
   "execution_count": 10,
   "metadata": {},
   "outputs": [
    {
     "name": "stdout",
     "output_type": "stream",
     "text": [
      "2023-04-03 21:22:53.231801\n",
      "2023\n",
      "4\n",
      "3\n",
      "21\n",
      "22\n",
      "53\n",
      "1680574973.232076\n"
     ]
    }
   ],
   "source": [
    "print(datetime.now())\n",
    "print(datetime.now().year)\n",
    "print(datetime.now().month)\n",
    "print(datetime.now().day)\n",
    "print(datetime.now().hour)\n",
    "print(datetime.now().minute)\n",
    "print(datetime.now().second)\n",
    "print(datetime.now().timestamp())"
   ]
  },
  {
   "cell_type": "code",
   "execution_count": 12,
   "metadata": {},
   "outputs": [
    {
     "name": "stdout",
     "output_type": "stream",
     "text": [
      "3/4/2023, 21:26\n"
     ]
    }
   ],
   "source": [
    "now = datetime.now()\n",
    "year= now.year\n",
    "month = now.month\n",
    "day = now.day\n",
    "hour = now.hour\n",
    "minute = now.minute\n",
    "print(f\"{day}/{month}/{year}, {hour}:{minute}\")"
   ]
  },
  {
   "attachments": {},
   "cell_type": "markdown",
   "metadata": {},
   "source": [
    "### **Formatting date output using *`strftime`***"
   ]
  },
  {
   "cell_type": "code",
   "execution_count": 5,
   "metadata": {},
   "outputs": [
    {
     "name": "stdout",
     "output_type": "stream",
     "text": [
      "2024-01-01 00:00:00\n",
      "1 1 2024 0 0 0\n",
      "1/1/2024, 0:0:0\n"
     ]
    }
   ],
   "source": [
    "from datetime import datetime\n",
    "\n",
    "new_year = datetime(2024, 1, 1)\n",
    "print(new_year)\n",
    "day = new_year.day\n",
    "month = new_year.month\n",
    "year = new_year.year\n",
    "hour = new_year.hour\n",
    "minute = new_year.minute\n",
    "second = new_year.second\n",
    "print(day, month, year, hour, minute, second)\n",
    "print(f\"{day}/{month}/{year}, {hour}:{minute}:{second}\")"
   ]
  },
  {
   "attachments": {},
   "cell_type": "markdown",
   "metadata": {},
   "source": [
    "Formatting date time using **`strftime`** method and the documentation can be found [here](https://strftime.org/)."
   ]
  },
  {
   "cell_type": "code",
   "execution_count": 14,
   "metadata": {},
   "outputs": [
    {
     "name": "stdout",
     "output_type": "stream",
     "text": [
      "time: 17:23:07\n",
      "02/12/2023, 17:23:07\n",
      "12/02/2023, 17:23:07\n"
     ]
    }
   ],
   "source": [
    "from datetime import datetime\n",
    "# Current date and time\n",
    "now = datetime.now()\n",
    "t = now.strftime(\"%H:%M:%S\")\n",
    "print(\"time:\", t)\n",
    "time_one = now.strftime(\"%m/%d/%Y, %H:%M:%S\")  # mm/dd/YY, H:M:S format\n",
    "print(time_one)\n",
    "time_two = now.strftime(\"%d/%m/%Y, %H:%M:%S\")  # dd/mm/YY, H:M:S format\n",
    "print(time_two)"
   ]
  },
  {
   "attachments": {},
   "cell_type": "markdown",
   "metadata": {},
   "source": [
    "### **String to Time using *`strptime`***"
   ]
  },
  {
   "cell_type": "code",
   "execution_count": 15,
   "metadata": {},
   "outputs": [
    {
     "name": "stdout",
     "output_type": "stream",
     "text": [
      "date_string = 5 December, 2019\n",
      "date_object = 2019-12-05 00:00:00\n"
     ]
    }
   ],
   "source": [
    "from datetime import datetime\n",
    "date_string = \"5 December, 2019\"\n",
    "print(\"date_string =\", date_string)\n",
    "date_object = datetime.strptime(date_string, \"%d %B, %Y\")\n",
    "print(\"date_object =\", date_object)"
   ]
  },
  {
   "attachments": {},
   "cell_type": "markdown",
   "metadata": {},
   "source": [
    "### **Using *`date`* from datetime**"
   ]
  },
  {
   "cell_type": "code",
   "execution_count": 22,
   "metadata": {},
   "outputs": [
    {
     "name": "stdout",
     "output_type": "stream",
     "text": [
      "Current date: 2023-02-12\n",
      "Current year: 2023\n",
      "Current month: 2\n",
      "Current day: 12\n"
     ]
    }
   ],
   "source": [
    "from datetime import date\n",
    "d = date(2020, 1, 1)\n",
    "print(\"Current date:\", d.today())\n",
    "# date object of today's date\n",
    "today = date.today()\n",
    "print(\"Current year:\", today.year)\n",
    "print(\"Current month:\", today.month)\n",
    "print(\"Current day:\", today.day)"
   ]
  },
  {
   "attachments": {},
   "cell_type": "markdown",
   "metadata": {},
   "source": [
    "### **Time objects to represent time**"
   ]
  },
  {
   "cell_type": "code",
   "execution_count": 23,
   "metadata": {},
   "outputs": [
    {
     "name": "stdout",
     "output_type": "stream",
     "text": [
      "a = 00:00:00\n",
      "b = 10:30:50\n",
      "c = 10:30:50\n",
      "d = 10:30:50.200555\n"
     ]
    }
   ],
   "source": [
    "from datetime import time\n",
    "# time(hour = 0, minute = 0, second = 0)\n",
    "a = time()\n",
    "print(\"a =\", a)\n",
    "\n",
    "# time(hour, minute and second)\n",
    "b = time(10, 30, 50)\n",
    "print(\"b =\", b)\n",
    "\n",
    "# time(hour, minute and second)\n",
    "c = time(hour=10, minute=30, second=50)\n",
    "print(\"c =\", c)\n",
    "\n",
    "# time(hour, minute, second and microsecond)\n",
    "d = time(10, 30, 50, 200555)\n",
    "print(\"d =\", d)"
   ]
  },
  {
   "attachments": {},
   "cell_type": "markdown",
   "metadata": {},
   "source": [
    "### **Calculating time difference**"
   ]
  },
  {
   "cell_type": "code",
   "execution_count": 26,
   "metadata": {},
   "outputs": [
    {
     "name": "stdout",
     "output_type": "stream",
     "text": [
      "Time left for new year: 323 days, 0:00:00\n"
     ]
    }
   ],
   "source": [
    "today = date.today()\n",
    "new_year = date(2024, 1, 1)\n",
    "time_left_for_new_year = new_year - today\n",
    "print(\"Time left for new year:\", time_left_for_new_year)"
   ]
  },
  {
   "cell_type": "code",
   "execution_count": 28,
   "metadata": {},
   "outputs": [
    {
     "name": "stdout",
     "output_type": "stream",
     "text": [
      "Time left for new year: 322 days, 18:19:00\n"
     ]
    }
   ],
   "source": [
    "t1 = datetime(year = 2023, month = 2, day = 12, hour = 5, minute = 41, second = 0)\n",
    "t2 = datetime(year = 2024, month = 1, day = 1, hour = 0, minute = 0, second = 0)\n",
    "diff = t2 - t1\n",
    "print('Time left for new year:', diff)"
   ]
  },
  {
   "attachments": {},
   "cell_type": "markdown",
   "metadata": {},
   "source": [
    "### **Calculating time difference using *`timedelta`***"
   ]
  },
  {
   "cell_type": "code",
   "execution_count": 29,
   "metadata": {},
   "outputs": [
    {
     "name": "stdout",
     "output_type": "stream",
     "text": [
      "t3 = 86 days, 22:56:50\n"
     ]
    }
   ],
   "source": [
    "from datetime import timedelta\n",
    "t1 = timedelta(weeks=12, days=10, hours=4, seconds=20)\n",
    "t2 = timedelta(days=7, hours=5, minutes=3, seconds=30)\n",
    "t3 = t1 - t2\n",
    "print(\"t3 =\", t3)"
   ]
  }
 ],
 "metadata": {
  "kernelspec": {
   "display_name": "base",
   "language": "python",
   "name": "python3"
  },
  "language_info": {
   "codemirror_mode": {
    "name": "ipython",
    "version": 3
   },
   "file_extension": ".py",
   "mimetype": "text/x-python",
   "name": "python",
   "nbconvert_exporter": "python",
   "pygments_lexer": "ipython3",
   "version": "3.10.9"
  },
  "orig_nbformat": 4,
  "vscode": {
   "interpreter": {
    "hash": "cfd8684c7f53546f7fdc85df00f20bbd1266ef94d3e3b65674cf698d02319b94"
   }
  }
 },
 "nbformat": 4,
 "nbformat_minor": 2
}
