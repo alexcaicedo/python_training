{
 "cells": [
  {
   "cell_type": "code",
   "execution_count": null,
   "metadata": {},
   "outputs": [],
   "source": [
    "import requests # importing the request module\n",
    "\n",
    "url = 'https://www.w3.org/TR/PNG/iso_8859-1.txt' # text from a website\n",
    "\n",
    "response = requests.get(url) # opening a network and fetching a data\n",
    "print(response)\n",
    "print(response.status_code) # status code, success:200\n",
    "print(response.headers)     # headers information\n",
    "print(response.text) # gives all the text from the page"
   ]
  }
 ],
 "metadata": {
  "kernelspec": {
   "display_name": "base",
   "language": "python",
   "name": "python3"
  },
  "language_info": {
   "codemirror_mode": {
    "name": "ipython",
    "version": 3
   },
   "file_extension": ".py",
   "mimetype": "text/x-python",
   "name": "python",
   "nbconvert_exporter": "python",
   "pygments_lexer": "ipython3",
   "version": "3.10.9"
  },
  "orig_nbformat": 4
 },
 "nbformat": 4,
 "nbformat_minor": 2
}
