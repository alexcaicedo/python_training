{
 "cells": [
  {
   "attachments": {},
   "cell_type": "markdown",
   "metadata": {},
   "source": [
    "# **Variables**"
   ]
  },
  {
   "cell_type": "code",
   "execution_count": 1,
   "metadata": {},
   "outputs": [
    {
     "name": "stdout",
     "output_type": "stream",
     "text": [
      "First name: Alexander\n",
      "First name length: 9\n",
      "Last name: Caicedo\n",
      "Last name length: 7\n",
      "Country: Colombia\n",
      "City: Neiva\n",
      "Age: 31\n",
      "Married: False\n",
      "Skills: ['Python', 'Excel', 'English', 'Numpy', 'Seaborn', 'Pandas']\n",
      "Person information: {'firstname': 'Alexander', 'lastname': 'Caicedo', 'age': 31, 'height': 175, 'weight': 78.6, 'country': 'Colombia', 'city': 'Neiva'}\n"
     ]
    }
   ],
   "source": [
    "firstname = \"Alexander\"\n",
    "lastname = \"Caicedo\"\n",
    "age = 31\n",
    "height = 175\n",
    "weight = 78.6\n",
    "country = \"Colombia\"\n",
    "city = \"Neiva\"\n",
    "is_married = False\n",
    "skills = [\"Python\", \"Excel\", \"English\", \"Numpy\", \"Seaborn\", \"Pandas\"]\n",
    "person_info = {\n",
    "    \"firstname\": firstname,\n",
    "    \"lastname\": lastname,\n",
    "    \"age\": age,\n",
    "    \"height\": height,\n",
    "    \"weight\": weight,\n",
    "    \"country\": country,\n",
    "    \"city\": city\n",
    "}\n",
    "\n",
    "# Printing the values stores in variables\n",
    "\n",
    "print(\"First name:\", firstname)\n",
    "print(\"First name length:\", len(firstname))            # len() is a Built-in function\n",
    "print(\"Last name:\", lastname)\n",
    "print(\"Last name length:\", len(lastname))\n",
    "print(\"Country:\", country)\n",
    "print(\"City:\", city)\n",
    "print(\"Age:\", age)\n",
    "print(\"Married:\", is_married)\n",
    "print(\"Skills:\", skills)\n",
    "print(\"Person information:\", person_info)"
   ]
  },
  {
   "attachments": {},
   "cell_type": "markdown",
   "metadata": {},
   "source": [
    "## **Declaring multiple variables in one line**"
   ]
  },
  {
   "cell_type": "code",
   "execution_count": 2,
   "metadata": {},
   "outputs": [
    {
     "name": "stdout",
     "output_type": "stream",
     "text": [
      "20\n",
      "Treinta\n",
      "False\n"
     ]
    }
   ],
   "source": [
    "x, y, z = 20, \"Treinta\", False\n",
    "\n",
    "print(x)\n",
    "print(y)\n",
    "print(z)"
   ]
  },
  {
   "attachments": {},
   "cell_type": "markdown",
   "metadata": {},
   "source": [
    "## **Getting user input**"
   ]
  },
  {
   "cell_type": "code",
   "execution_count": 3,
   "metadata": {},
   "outputs": [
    {
     "name": "stdout",
     "output_type": "stream",
     "text": [
      "Alex\n",
      "30\n"
     ]
    }
   ],
   "source": [
    "first_name = input(\"What's your name?: \")\n",
    "age = input(\"What's your age?: \")\n",
    "\n",
    "print(first_name)\n",
    "print(age)"
   ]
  },
  {
   "attachments": {},
   "cell_type": "markdown",
   "metadata": {},
   "source": [
    "## ***Casting*: Converting one data type into another**"
   ]
  },
  {
   "cell_type": "code",
   "execution_count": 4,
   "metadata": {},
   "outputs": [
    {
     "name": "stdout",
     "output_type": "stream",
     "text": [
      "30.0\n",
      "78\n",
      "['A', 'l', 'e', 'x', 'a', 'n', 'd', 'e', 'r']\n"
     ]
    }
   ],
   "source": [
    "float_age = float(age)\n",
    "print(float_age)\n",
    "\n",
    "int_weight = int(weight)\n",
    "print(int_weight)\n",
    "\n",
    "firstname_to_list = list(firstname)\n",
    "print(firstname_to_list)"
   ]
  }
 ],
 "metadata": {
  "kernelspec": {
   "display_name": "co2-venv",
   "language": "python",
   "name": "python3"
  },
  "language_info": {
   "codemirror_mode": {
    "name": "ipython",
    "version": 3
   },
   "file_extension": ".py",
   "mimetype": "text/x-python",
   "name": "python",
   "nbconvert_exporter": "python",
   "pygments_lexer": "ipython3",
   "version": "3.10.9"
  },
  "orig_nbformat": 4,
  "vscode": {
   "interpreter": {
    "hash": "1deb68f7abed2498be121ae72d9a542ad1482a85505e05a39d2f50e38be4a775"
   }
  }
 },
 "nbformat": 4,
 "nbformat_minor": 2
}
