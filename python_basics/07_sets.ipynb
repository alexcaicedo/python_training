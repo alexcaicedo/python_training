{
 "cells": [
  {
   "attachments": {},
   "cell_type": "markdown",
   "metadata": {},
   "source": [
    "# **Sets**\n",
    "Sets are one of four collection data types in python. The other three are: Lists, Tuples and Dictionaries. The Mathematics definition of a set can be applied also in Python. A Set is a collection of unordered and unindexed distinct elements. In Python, a set is used to store unique items, and it is possible to find:\n",
    "- union\n",
    "- intersection\n",
    "- difference\n",
    "- symmetric difference\n",
    "- subset\n",
    "- super set\n",
    "- and disjoint set among sets."
   ]
  },
  {
   "cell_type": "code",
   "execution_count": 1,
   "metadata": {},
   "outputs": [
    {
     "name": "stdout",
     "output_type": "stream",
     "text": [
      "4\n"
     ]
    }
   ],
   "source": [
    "# How to create a set\n",
    "# Using built in function set()\n",
    "empty_tpl = set()\n",
    "\n",
    "# Using curly brackets {}\n",
    "st = {'item1', 'item2', 'item3', 'item4'}\n",
    "fruits = {'banana', 'orange', 'mango', 'lemon'}\n",
    "\n",
    "set_length = len(fruits)  # built in function len() gives the number of elements in a set.\n",
    "print(set_length)"
   ]
  },
  {
   "attachments": {},
   "cell_type": "markdown",
   "metadata": {},
   "source": [
    "## **Accessing items in sets**\n",
    "We use loops to access items. These are covered in the loop files."
   ]
  },
  {
   "attachments": {},
   "cell_type": "markdown",
   "metadata": {},
   "source": [
    "## **Checking items in sets**"
   ]
  },
  {
   "cell_type": "code",
   "execution_count": 2,
   "metadata": {},
   "outputs": [
    {
     "name": "stdout",
     "output_type": "stream",
     "text": [
      "True\n"
     ]
    }
   ],
   "source": [
    "fruits = {'banana', 'orange', 'mango', 'lemon'}\n",
    "print('mango' in fruits)   # True"
   ]
  },
  {
   "attachments": {},
   "cell_type": "markdown",
   "metadata": {},
   "source": [
    "## **Adding items**"
   ]
  },
  {
   "cell_type": "code",
   "execution_count": 3,
   "metadata": {},
   "outputs": [
    {
     "name": "stdout",
     "output_type": "stream",
     "text": [
      "{'orange', 'lemon', 'mango', 'banana', 'lime'}\n",
      "{'potato', 'onion', 'carrot', 'orange', 'lemon', 'mango', 'banana', 'tomato', 'cabbage'}\n"
     ]
    }
   ],
   "source": [
    "# Add one item using .add()\n",
    "fruits = {'banana', 'orange', 'mango', 'lemon'}\n",
    "fruits.add('lime')\n",
    "print(fruits)    # {'banana', 'orange', 'mango', 'lemon', 'lime'}\n",
    "\n",
    "# Add multiple items using .update()\n",
    "fruits = {'banana', 'orange', 'mango', 'lemon'}\n",
    "vegetables = ('tomato', 'potato', 'cabbage','onion', 'carrot')\n",
    "fruits.update(vegetables)\n",
    "print(fruits)    # {'carrot', 'mango', 'tomato', 'cabbage', 'potato', 'onion', 'banana', 'orange', 'lemon'}"
   ]
  },
  {
   "attachments": {},
   "cell_type": "markdown",
   "metadata": {},
   "source": [
    "## **Removing items**\n",
    "We can remove an item from a set using `.remove()` method. If the item is not found `.remove()` method will raise errors, so it is good to check if the item exist in the given set. However, `.discard()` method doesn't raise any errors."
   ]
  },
  {
   "cell_type": "code",
   "execution_count": 4,
   "metadata": {},
   "outputs": [
    {
     "data": {
      "text/plain": [
       "'lemon'"
      ]
     },
     "execution_count": 4,
     "metadata": {},
     "output_type": "execute_result"
    }
   ],
   "source": [
    "fruits = {'banana', 'orange', 'mango', 'lemon'}\n",
    "fruits.pop()  # removes a random item from the set"
   ]
  },
  {
   "attachments": {},
   "cell_type": "markdown",
   "metadata": {},
   "source": [
    "## **Clearing items in a set**"
   ]
  },
  {
   "cell_type": "code",
   "execution_count": 5,
   "metadata": {},
   "outputs": [
    {
     "name": "stdout",
     "output_type": "stream",
     "text": [
      "set()\n"
     ]
    }
   ],
   "source": [
    "fruits = {'banana', 'orange', 'mango', 'lemon'}\n",
    "fruits.clear()\n",
    "print(fruits) # set()"
   ]
  },
  {
   "attachments": {},
   "cell_type": "markdown",
   "metadata": {},
   "source": [
    "## **Deleting a set**"
   ]
  },
  {
   "cell_type": "code",
   "execution_count": null,
   "metadata": {},
   "outputs": [],
   "source": [
    "st = {'item1', 'item2', 'item3'}\n",
    "del st"
   ]
  },
  {
   "attachments": {},
   "cell_type": "markdown",
   "metadata": {},
   "source": [
    "## **Converting sets into lists**"
   ]
  },
  {
   "cell_type": "code",
   "execution_count": null,
   "metadata": {},
   "outputs": [],
   "source": [
    "lst = ['item1', 'item2', 'item3', 'item4', 'item1']\n",
    "st = set(lst)  # {'item2', 'item4', 'item1', 'item3'}\n",
    "# The order is random, because sets in general are unordered.\n",
    "\n",
    "fruits = ['banana', 'orange', 'mango', 'lemon','orange', 'banana']\n",
    "fruits = set(fruits) # {'mango', 'lemon', 'banana', 'orange'}"
   ]
  },
  {
   "attachments": {},
   "cell_type": "markdown",
   "metadata": {},
   "source": [
    "## **Joining sets (`.union()`)**"
   ]
  },
  {
   "cell_type": "code",
   "execution_count": 6,
   "metadata": {},
   "outputs": [
    {
     "name": "stdout",
     "output_type": "stream",
     "text": [
      "{'item3', 'item6', 'item4', 'item7', 'item1', 'item5', 'item8', 'item2'}\n",
      "{'carrot', 'onion', 'potato', 'orange', 'lemon', 'mango', 'banana', 'tomato', 'cabbage'}\n"
     ]
    }
   ],
   "source": [
    "st1 = {'item1', 'item2', 'item3', 'item4'}\n",
    "st2 = {'item5', 'item6', 'item7', 'item8'}\n",
    "st3 = st1.union(st2)\n",
    "print(st3)     # random order\n",
    "\n",
    "fruits = {'banana', 'orange', 'mango', 'lemon'}\n",
    "vegetables = {'tomato', 'potato', 'cabbage','onion', 'carrot'}\n",
    "fruits.update(vegetables)\n",
    "print(fruits) # random order"
   ]
  },
  {
   "attachments": {},
   "cell_type": "markdown",
   "metadata": {},
   "source": [
    "## **Finding intersection items (`.intersection()`)**"
   ]
  },
  {
   "cell_type": "code",
   "execution_count": 9,
   "metadata": {},
   "outputs": [
    {
     "data": {
      "text/plain": [
       "{0, 2, 4, 6, 8, 10}"
      ]
     },
     "execution_count": 9,
     "metadata": {},
     "output_type": "execute_result"
    }
   ],
   "source": [
    "whole_numbers = {0, 1, 2, 3, 4, 5, 6, 7, 8, 9, 10}\n",
    "even_numbers = {0, 2, 4, 6, 8, 10}\n",
    "whole_numbers.intersection(even_numbers) # {0, 2, 4, 6, 8, 10}"
   ]
  },
  {
   "cell_type": "code",
   "execution_count": 10,
   "metadata": {},
   "outputs": [
    {
     "data": {
      "text/plain": [
       "{'n', 'o'}"
      ]
     },
     "execution_count": 10,
     "metadata": {},
     "output_type": "execute_result"
    }
   ],
   "source": [
    "python = {'p', 'y', 't', 'h', 'o','n'}\n",
    "dragon = {'d', 'r', 'a', 'g', 'o','n'}\n",
    "python.intersection(dragon)     # {'o', 'n'}"
   ]
  },
  {
   "attachments": {},
   "cell_type": "markdown",
   "metadata": {},
   "source": [
    "## **Checking subset and superset**\n",
    "`.issubset()` and `.issuperset()` methods."
   ]
  },
  {
   "cell_type": "code",
   "execution_count": 13,
   "metadata": {},
   "outputs": [
    {
     "name": "stdout",
     "output_type": "stream",
     "text": [
      "False\n",
      "True\n",
      "False\n"
     ]
    }
   ],
   "source": [
    "whole_numbers = {0, 1, 2, 3, 4, 5, 6, 7, 8, 9, 10}\n",
    "even_numbers = {0, 2, 4, 6, 8, 10}\n",
    "print(whole_numbers.issubset(even_numbers)) # False, because it is a super set\n",
    "print(whole_numbers.issuperset(even_numbers)) # True\n",
    "\n",
    "python = {'p', 'y', 't', 'h', 'o','n'}\n",
    "dragon = {'d', 'r', 'a', 'g', 'o','n'}\n",
    "print(python.issubset(dragon))     # False"
   ]
  },
  {
   "attachments": {},
   "cell_type": "markdown",
   "metadata": {},
   "source": [
    "## **Checking the difference between two sets (`.difference()`)**"
   ]
  },
  {
   "cell_type": "code",
   "execution_count": 14,
   "metadata": {},
   "outputs": [
    {
     "name": "stdout",
     "output_type": "stream",
     "text": [
      "{1, 3, 5, 7, 9}\n",
      "{'t', 'y', 'p'}\n",
      "{'a', 'r', 'd', 'g'}\n"
     ]
    }
   ],
   "source": [
    "whole_numbers = {0, 1, 2, 3, 4, 5, 6, 7, 8, 9, 10}\n",
    "even_numbers = {0, 2, 4, 6, 8, 10}\n",
    "print(whole_numbers.difference(even_numbers)) # {1, 3, 5, 7, 9}\n",
    "\n",
    "python = {'p', 'y', 't', 'o','n'}\n",
    "dragon = {'d', 'r', 'a', 'g', 'o','n'}\n",
    "print(python.difference(dragon))     # {'p', 'y', 't'} - the result is unordered (characteristic of sets)\n",
    "print(dragon.difference(python))     # {'d', 'r', 'a', 'g'}"
   ]
  },
  {
   "attachments": {},
   "cell_type": "markdown",
   "metadata": {},
   "source": [
    "## **Checking the symmetric difference between two sets (`.symmetric_difference()`)**"
   ]
  },
  {
   "cell_type": "code",
   "execution_count": 15,
   "metadata": {},
   "outputs": [
    {
     "name": "stdout",
     "output_type": "stream",
     "text": [
      "{0, 6, 7, 8, 9, 10}\n",
      "{'t', 'r', 'g', 'p', 'h', 'a', 'y', 'd'}\n"
     ]
    }
   ],
   "source": [
    "whole_numbers = {0, 1, 2, 3, 4, 5, 6, 7, 8, 9, 10}\n",
    "some_numbers = {1, 2, 3, 4, 5}\n",
    "print(whole_numbers.symmetric_difference(some_numbers)) # {0, 6, 7, 8, 9, 10}\n",
    "\n",
    "python = {'p', 'y', 't', 'h', 'o','n'}\n",
    "dragon = {'d', 'r', 'a', 'g', 'o','n'}\n",
    "print(python.symmetric_difference(dragon))  # {'r', 't', 'p', 'y', 'g', 'a', 'd', 'h'}"
   ]
  },
  {
   "attachments": {},
   "cell_type": "markdown",
   "metadata": {},
   "source": [
    "## **Checking disjoint sets (`.isdisjoint()`)**"
   ]
  },
  {
   "cell_type": "code",
   "execution_count": 17,
   "metadata": {},
   "outputs": [
    {
     "name": "stdout",
     "output_type": "stream",
     "text": [
      "True\n",
      "False\n"
     ]
    }
   ],
   "source": [
    "even_numbers = {0, 2, 4 ,6, 8}\n",
    "odd_numbers = {1, 3, 5, 7, 9}\n",
    "print(even_numbers.isdisjoint(odd_numbers)) # True, because no common items\n",
    "\n",
    "python = {'p', 'y', 't', 'h', 'o','n'}\n",
    "dragon = {'d', 'r', 'a', 'g', 'o','n'}\n",
    "print(python.isdisjoint(dragon))  # False, there are common items {'o', 'n'}"
   ]
  }
 ],
 "metadata": {
  "kernelspec": {
   "display_name": "base",
   "language": "python",
   "name": "python3"
  },
  "language_info": {
   "codemirror_mode": {
    "name": "ipython",
    "version": 3
   },
   "file_extension": ".py",
   "mimetype": "text/x-python",
   "name": "python",
   "nbconvert_exporter": "python",
   "pygments_lexer": "ipython3",
   "version": "3.9.12"
  },
  "orig_nbformat": 4,
  "vscode": {
   "interpreter": {
    "hash": "47e6f0666911a228d0a15712c74deef82de687a7dc037b9bb2a6c96e8ee3afae"
   }
  }
 },
 "nbformat": 4,
 "nbformat_minor": 2
}
