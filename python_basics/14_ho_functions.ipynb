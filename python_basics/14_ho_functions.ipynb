{
 "cells": [
  {
   "attachments": {},
   "cell_type": "markdown",
   "metadata": {},
   "source": [
    "# **High Order Functions**\n",
    "In Python, functions are treated as first class citizens, allowing you to perform the following operations on functions:\n",
    "- A function can take one or more functions as parameters.\n",
    "- A function can be returned as a result of another function.\n",
    "- A function can be modified.\n",
    "- A function can be assigned to a variable."
   ]
  },
  {
   "attachments": {},
   "cell_type": "markdown",
   "metadata": {},
   "source": [
    "## **Function as a parameter**"
   ]
  },
  {
   "cell_type": "code",
   "execution_count": 1,
   "metadata": {},
   "outputs": [
    {
     "data": {
      "text/plain": [
       "15"
      ]
     },
     "execution_count": 1,
     "metadata": {},
     "output_type": "execute_result"
    }
   ],
   "source": [
    "def sum_numbers(nums):  # normal function\n",
    "    return sum(nums)    # a sad function abusing the built-in sum function :v\n",
    "\n",
    "def higher_order_function(f, lst):  # function as a parameter\n",
    "    summation = f(lst)\n",
    "    return summation\n",
    "\n",
    "result = higher_order_function(sum_numbers, [1, 2, 3, 4, 5])\n",
    "result       # 15"
   ]
  },
  {
   "attachments": {},
   "cell_type": "markdown",
   "metadata": {},
   "source": [
    "## **Function as a return value**"
   ]
  },
  {
   "cell_type": "code",
   "execution_count": 2,
   "metadata": {},
   "outputs": [
    {
     "name": "stdout",
     "output_type": "stream",
     "text": [
      "9\n",
      "27\n",
      "3\n"
     ]
    }
   ],
   "source": [
    "def square(x):          # a square function\n",
    "    return x ** 2\n",
    "\n",
    "def cube(x):            # a cube function\n",
    "    return x ** 3\n",
    "\n",
    "def absolute(x):        # an absolute value function\n",
    "    if x >= 0:\n",
    "        return x\n",
    "    else:\n",
    "        return -(x)\n",
    "\n",
    "def higher_order_function(type):   # a higher order function returning a function\n",
    "    if type == 'square':\n",
    "        return square\n",
    "    elif type == 'cube':\n",
    "        return cube\n",
    "    elif type == 'absolute':\n",
    "        return absolute\n",
    "\n",
    "result = higher_order_function('square')\n",
    "print(result(3))       # 9\n",
    "result = higher_order_function('cube')\n",
    "print(result(3))       # 27\n",
    "result = higher_order_function('absolute')\n",
    "print(result(-3))      # 3"
   ]
  },
  {
   "attachments": {},
   "cell_type": "markdown",
   "metadata": {},
   "source": [
    "## **Python closures**\n",
    "Python allows a nested function to access the outer scope of the enclosing function. This is known as a closure. Let us have a look at how closures work in Python.\n",
    "\n",
    "In Python, a closure is created by nesting a function inside another encapsulating function and then returning the inner function. For example:"
   ]
  },
  {
   "cell_type": "code",
   "execution_count": 3,
   "metadata": {},
   "outputs": [
    {
     "name": "stdout",
     "output_type": "stream",
     "text": [
      "15\n",
      "100\n"
     ]
    }
   ],
   "source": [
    "def add_ten():\n",
    "    def add(num):\n",
    "        return num + 10\n",
    "    return add\n",
    "\n",
    "result = add_ten()\n",
    "print(result(5))\n",
    "print(result(90))"
   ]
  },
  {
   "cell_type": "code",
   "execution_count": 4,
   "metadata": {},
   "outputs": [
    {
     "data": {
      "text/plain": [
       "'Alex Caicedo'"
      ]
     },
     "execution_count": 4,
     "metadata": {},
     "output_type": "execute_result"
    }
   ],
   "source": [
    "def first_name():\n",
    "    def last_name(ln):\n",
    "        return \"Alex\" + \" \" + ln\n",
    "    return last_name\n",
    "\n",
    "full_name = first_name()\n",
    "full_name(\"Caicedo\")"
   ]
  },
  {
   "attachments": {},
   "cell_type": "markdown",
   "metadata": {},
   "source": [
    "## **Python decorators**\n",
    "A decorator is a design pattern in Python that allows a user to add new functionality to an existing object without modifying its structure. Decorators are usually called before the definition of a function you want to decorate.\n",
    "\n",
    "To create a decorator function, we need an outer function with an inner wrapper function. For example:"
   ]
  },
  {
   "cell_type": "code",
   "execution_count": 5,
   "metadata": {},
   "outputs": [
    {
     "data": {
      "text/plain": [
       "'WELCOME TO PYTHON'"
      ]
     },
     "execution_count": 5,
     "metadata": {},
     "output_type": "execute_result"
    }
   ],
   "source": [
    "# Normal function\n",
    "def greeting():\n",
    "    return \"Welcome to Python\"\n",
    "\n",
    "# Closure\n",
    "def uppercase_decorator(f):\n",
    "    def wrapper():\n",
    "        func = f()\n",
    "        make_uppercase = func.upper()\n",
    "        return make_uppercase\n",
    "    return wrapper\n",
    "\n",
    "g = uppercase_decorator(greeting)\n",
    "g()"
   ]
  },
  {
   "cell_type": "code",
   "execution_count": 6,
   "metadata": {},
   "outputs": [
    {
     "data": {
      "text/plain": [
       "'WELCOME TO PYTHON'"
      ]
     },
     "execution_count": 6,
     "metadata": {},
     "output_type": "execute_result"
    }
   ],
   "source": [
    "# Let us implement the example above with a decorator\n",
    "# This decorator function is a high order function that takes a function as a parameter\n",
    "def uppercase_decorator(f):\n",
    "    def wrapper():\n",
    "        func = f()\n",
    "        make_uppercase = func.upper()\n",
    "        return make_uppercase\n",
    "    return wrapper\n",
    "\n",
    "@uppercase_decorator\n",
    "def greeting():\n",
    "    return \"Welcome to Python\"\n",
    "\n",
    "greeting()"
   ]
  },
  {
   "attachments": {},
   "cell_type": "markdown",
   "metadata": {},
   "source": [
    "### **Applying Multiple Decorators to a Single Function**"
   ]
  },
  {
   "cell_type": "code",
   "execution_count": 7,
   "metadata": {},
   "outputs": [
    {
     "data": {
      "text/plain": [
       "['WELCOME', 'TO', 'PYTHON']"
      ]
     },
     "execution_count": 7,
     "metadata": {},
     "output_type": "execute_result"
    }
   ],
   "source": [
    "# First decorator\n",
    "def uppercase_decorator(f):\n",
    "    def wrapper():\n",
    "        func = f()\n",
    "        make_uppercase = func.upper()\n",
    "        return make_uppercase\n",
    "    return wrapper\n",
    "\n",
    "# Second decorator\n",
    "def split_string(f):\n",
    "    def wrapper():\n",
    "        func = f()\n",
    "        make_split = func.split()\n",
    "        return make_split\n",
    "    return wrapper\n",
    "\n",
    "# The order of the decorators is important in this case because the .upper() function doesn't work with lists\n",
    "@split_string\n",
    "@uppercase_decorator\n",
    "def greeting():\n",
    "    return \"Welcome to Python\"\n",
    "\n",
    "greeting()"
   ]
  },
  {
   "attachments": {},
   "cell_type": "markdown",
   "metadata": {},
   "source": [
    "### **Accepting Parameters in Decorator Functions**\n",
    "Most of the time we need out functions to take parametersm so we might need to define a decorator that accepts parameters."
   ]
  },
  {
   "cell_type": "code",
   "execution_count": 8,
   "metadata": {},
   "outputs": [
    {
     "name": "stdout",
     "output_type": "stream",
     "text": [
      "I am Alexander Caicedo. I love to learn!\n",
      "I live in Colombia\n"
     ]
    }
   ],
   "source": [
    "def decorator_with_parameters(f):\n",
    "    def wrapper_accepting_parameters(para1, para2, para3):\n",
    "        f(para1, para2, para3)\n",
    "        print(\"I live in {}\".format(para3))\n",
    "    return wrapper_accepting_parameters\n",
    "\n",
    "@decorator_with_parameters\n",
    "def print_full_name(first_name, last_name, country):\n",
    "    print(\"I am {} {}. I love to learn!\".format(first_name, last_name, country))\n",
    "\n",
    "print_full_name(\"Alexander\", \"Caicedo\", \"Colombia\")"
   ]
  },
  {
   "attachments": {},
   "cell_type": "markdown",
   "metadata": {},
   "source": [
    "## **Built-in high order functions**\n",
    "Some of the built-in high order functions that we cover in this part are `map()`, `filter()` and `reduce()`. `Lambda` function can be passed as a parameter and the best use case of lambda function is in functions like map, filter and reduce."
   ]
  },
  {
   "attachments": {},
   "cell_type": "markdown",
   "metadata": {},
   "source": [
    "- ### **Python - map() function**\n",
    "The map() function is a built-in function that takes a function and iterable as parameters."
   ]
  },
  {
   "cell_type": "code",
   "execution_count": 9,
   "metadata": {},
   "outputs": [
    {
     "name": "stdout",
     "output_type": "stream",
     "text": [
      "<map object at 0x7f2350489370>\n",
      "[1, 4, 9, 16, 25]\n"
     ]
    }
   ],
   "source": [
    "numbers = [1, 2, 3, 4, 5]      # Can be any iterable\n",
    "def square(x):\n",
    "    return x ** 2\n",
    "\n",
    "numbers_squared = map(square, numbers)\n",
    "print(numbers_squared)         # <map at 0x7fec0c9b6580>\n",
    "print(list(numbers_squared))   # [1, 4, 9, 16, 25]"
   ]
  },
  {
   "cell_type": "code",
   "execution_count": 10,
   "metadata": {},
   "outputs": [
    {
     "name": "stdout",
     "output_type": "stream",
     "text": [
      "[1, 2, 3, 4, 5]\n"
     ]
    }
   ],
   "source": [
    "numbers_str = [\"1\", \"2\", \"3\", \"4\", \"5\"]\n",
    "numbers_int = map(int, numbers_str)\n",
    "print(list(numbers_int))      # [1, 2, 3, 4, 5]"
   ]
  },
  {
   "cell_type": "code",
   "execution_count": 11,
   "metadata": {},
   "outputs": [
    {
     "data": {
      "text/plain": [
       "['ALEXANDER', 'LIDYA', 'CARLOS', 'STEPH', 'ABRAHAM']"
      ]
     },
     "execution_count": 11,
     "metadata": {},
     "output_type": "execute_result"
    }
   ],
   "source": [
    "names = [\"Alexander\", \"Lidya\", \"Carlos\", \"Steph\", \"Abraham\"]\n",
    "\n",
    "def change_to_upper(name):\n",
    "    return name.upper()\n",
    "\n",
    "names_upper_cased = map(change_to_upper, names)\n",
    "list(names_upper_cased)"
   ]
  },
  {
   "cell_type": "code",
   "execution_count": 12,
   "metadata": {},
   "outputs": [
    {
     "data": {
      "text/plain": [
       "['ALEXANDER', 'LIDYA', 'CARLOS', 'STEPH', 'ABRAHAM']"
      ]
     },
     "execution_count": 12,
     "metadata": {},
     "output_type": "execute_result"
    }
   ],
   "source": [
    "names = [\"Alexander\", \"Lidya\", \"Carlos\", \"Steph\", \"Abraham\"]\n",
    "names_upper_cased = map(lambda name: name.upper(), names)   # Using a lambda function\n",
    "list(names_upper_cased)"
   ]
  },
  {
   "attachments": {},
   "cell_type": "markdown",
   "metadata": {},
   "source": [
    "- ### **Python - filter() function**\n",
    "The filter() function calls the specified function which returns boolean for each item of the specified iterable (list). It filters the items that satisfy the filtering criteria."
   ]
  },
  {
   "cell_type": "code",
   "execution_count": 13,
   "metadata": {},
   "outputs": [
    {
     "data": {
      "text/plain": [
       "[2, 4]"
      ]
     },
     "execution_count": 13,
     "metadata": {},
     "output_type": "execute_result"
    }
   ],
   "source": [
    "numbers = [1, 2, 3, 4, 5]\n",
    "\n",
    "def is_even(num):\n",
    "    if num % 2 == 0:\n",
    "        return True\n",
    "    return False\n",
    "\n",
    "even_numbers = filter(is_even, numbers)\n",
    "list(even_numbers)"
   ]
  },
  {
   "cell_type": "code",
   "execution_count": 14,
   "metadata": {},
   "outputs": [
    {
     "data": {
      "text/plain": [
       "[1, 3, 5]"
      ]
     },
     "execution_count": 14,
     "metadata": {},
     "output_type": "execute_result"
    }
   ],
   "source": [
    "numbers = [1, 2, 3, 4, 5]\n",
    "\n",
    "def is_odd(num):\n",
    "    if num % 2 != 0:\n",
    "        return True\n",
    "    return False\n",
    "\n",
    "odd_numbers = filter(is_odd, numbers)\n",
    "list(odd_numbers)"
   ]
  },
  {
   "cell_type": "code",
   "execution_count": 15,
   "metadata": {},
   "outputs": [
    {
     "data": {
      "text/plain": [
       "['Alexander', 'Abrahimovic']"
      ]
     },
     "execution_count": 15,
     "metadata": {},
     "output_type": "execute_result"
    }
   ],
   "source": [
    "# Filter a long name\n",
    "names = [\"Alexander\", \"Lidya\", \"Carlos\", \"Steph\", \"Abrahimovic\"]\n",
    "\n",
    "def is_long_name(name):\n",
    "    if len(name) > 7:\n",
    "        return True\n",
    "    return False\n",
    "\n",
    "long_names = filter(is_long_name, names)\n",
    "list(long_names)"
   ]
  },
  {
   "attachments": {},
   "cell_type": "markdown",
   "metadata": {},
   "source": [
    "- ### **Python - reduce() function**\n",
    "The reduce() function is defined in the functools module and we should import it from this module. Like map and filter, it takes two parameters: a function and an iterable. However, it does not return another iterable. Instead, it returns a single value."
   ]
  },
  {
   "cell_type": "code",
   "execution_count": 16,
   "metadata": {},
   "outputs": [
    {
     "data": {
      "text/plain": [
       "15"
      ]
     },
     "execution_count": 16,
     "metadata": {},
     "output_type": "execute_result"
    }
   ],
   "source": [
    "from functools import reduce\n",
    "\n",
    "numbers_str = [\"1\", \"2\", \"3\", \"4\", \"5\"]\n",
    "\n",
    "def add_two_nums(x, y):\n",
    "    return int(x) + int(y)\n",
    "\n",
    "total = reduce(add_two_nums, numbers_str)\n",
    "total"
   ]
  }
 ],
 "metadata": {
  "kernelspec": {
   "display_name": "base",
   "language": "python",
   "name": "python3"
  },
  "language_info": {
   "codemirror_mode": {
    "name": "ipython",
    "version": 3
   },
   "file_extension": ".py",
   "mimetype": "text/x-python",
   "name": "python",
   "nbconvert_exporter": "python",
   "pygments_lexer": "ipython3",
   "version": "3.9.12"
  },
  "orig_nbformat": 4,
  "vscode": {
   "interpreter": {
    "hash": "47e6f0666911a228d0a15712c74deef82de687a7dc037b9bb2a6c96e8ee3afae"
   }
  }
 },
 "nbformat": 4,
 "nbformat_minor": 2
}
