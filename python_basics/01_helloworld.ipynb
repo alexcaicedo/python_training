{
 "cells": [
  {
   "attachments": {},
   "cell_type": "markdown",
   "metadata": {},
   "source": [
    "# **Hello World!**"
   ]
  },
  {
   "cell_type": "code",
   "execution_count": 2,
   "metadata": {},
   "outputs": [
    {
     "name": "stdout",
     "output_type": "stream",
     "text": [
      "Hello world!\n",
      "Hello world!\n",
      "Hello world!\n",
      "Hello world!\n"
     ]
    }
   ],
   "source": [
    "# This is a comment\n",
    "\n",
    "\"\"\"\n",
    "This is a multiline comment\n",
    "Multiline comments take multiple lines\n",
    "YOLO!\n",
    "\"\"\"\n",
    "\n",
    "'''\n",
    "This is also a multiline comment\n",
    "'''\n",
    "\n",
    "# Ways of printing strings\n",
    "print(\"Hello world!\")\n",
    "print('Hello world!')\n",
    "print('''Hello world!''')\n",
    "print(\"\"\"Hello world!\"\"\")"
   ]
  },
  {
   "attachments": {},
   "cell_type": "markdown",
   "metadata": {},
   "source": [
    "## **Math operations in Python**"
   ]
  },
  {
   "cell_type": "code",
   "execution_count": 3,
   "metadata": {},
   "outputs": [
    {
     "name": "stdout",
     "output_type": "stream",
     "text": [
      "7\n",
      "-1\n",
      "12\n",
      "0.75\n",
      "81\n",
      "3\n",
      "0\n"
     ]
    }
   ],
   "source": [
    "print(3 + 4)   # addition(+)\n",
    "print(3 - 4)   # subtraction(-)\n",
    "print(3 * 4)   # multiplication(*)\n",
    "print(3 / 4)   # division(/)\n",
    "print(3 ** 4)  # exponential(**)\n",
    "print(3 % 4)   # modulus(%)\n",
    "print(3 // 4)  # Floor division operator(//)"
   ]
  },
  {
   "attachments": {},
   "cell_type": "markdown",
   "metadata": {},
   "source": [
    "## **Data types**"
   ]
  },
  {
   "cell_type": "code",
   "execution_count": 4,
   "metadata": {},
   "outputs": [
    {
     "name": "stdout",
     "output_type": "stream",
     "text": [
      "<class 'bool'>\n",
      "<class 'int'>\n",
      "<class 'float'>\n",
      "<class 'complex'>\n",
      "<class 'str'>\n",
      "<class 'list'>\n",
      "<class 'dict'>\n",
      "<class 'set'>\n",
      "<class 'tuple'>\n",
      "<class 'NoneType'>\n"
     ]
    }
   ],
   "source": [
    "print(type(True))                 # Boolean\n",
    "print(type(10))                   # Integer\n",
    "print(type(3.14))                 # Float\n",
    "print(type(1 + 3j))               # Complex\n",
    "print(type('Alexander'))          # String\n",
    "print(type([1, 2, 3]))            # List\n",
    "print(type({'name':'Alexander'})) # Dictionary\n",
    "print(type({9.8, 3.14, 2.7}))     # Set\n",
    "print(type((9.8, 3.14, 2.7)))     # Tuple\n",
    "print(type(None))                 # NoneType"
   ]
  }
 ],
 "metadata": {
  "kernelspec": {
   "display_name": "co2-venv",
   "language": "python",
   "name": "python3"
  },
  "language_info": {
   "codemirror_mode": {
    "name": "ipython",
    "version": 3
   },
   "file_extension": ".py",
   "mimetype": "text/x-python",
   "name": "python",
   "nbconvert_exporter": "python",
   "pygments_lexer": "ipython3",
   "version": "3.9.13 | packaged by conda-forge | (main, May 27 2022, 16:56:21) \n[GCC 10.3.0]"
  },
  "orig_nbformat": 4,
  "vscode": {
   "interpreter": {
    "hash": "1deb68f7abed2498be121ae72d9a542ad1482a85505e05a39d2f50e38be4a775"
   }
  }
 },
 "nbformat": 4,
 "nbformat_minor": 2
}
