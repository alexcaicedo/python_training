{
 "cells": [
  {
   "attachments": {},
   "cell_type": "markdown",
   "metadata": {},
   "source": [
    "# **Exception Handling**"
   ]
  },
  {
   "attachments": {},
   "cell_type": "markdown",
   "metadata": {},
   "source": [
    "Python uses ***`try`*** and ***`except`*** to handle errors gracefully. A graceful exit (or graceful handling) of errors is a simple programming idiom - a program detects a serious error condition and *\"exits gracefully\"*, in a controlled manner. Often the program prints a descriptive error message to a terminal or log as part of the graceful exit. This makes our application more robust. The cause of an exception is often external to the program itself. An example of exceptions could be an incorrect input, wrong file name, unable to find a file, a malfunctioning IO device. Graceful handling of errors prevents our applications from crashing."
   ]
  },
  {
   "cell_type": "code",
   "execution_count": 2,
   "metadata": {},
   "outputs": [
    {
     "name": "stdout",
     "output_type": "stream",
     "text": [
      "Oops! Something went wrong.\n"
     ]
    }
   ],
   "source": [
    "try:\n",
    "    print(10 + \"5\")\n",
    "except:\n",
    "    print(\"Oops! Something went wrong.\")"
   ]
  },
  {
   "cell_type": "code",
   "execution_count": 3,
   "metadata": {},
   "outputs": [
    {
     "name": "stdout",
     "output_type": "stream",
     "text": [
      "Oops! Something went wrong.\n"
     ]
    }
   ],
   "source": [
    "try:\n",
    "    name = input(\"Enter your name:\")\n",
    "    year_born = input(\"Enter year you were born:\")\n",
    "    age = 2023 - year_born\n",
    "    print(f\"What's up {name}! You are {age} years-old.\")\n",
    "except:\n",
    "    print(\"Oops! Something went wrong.\")"
   ]
  },
  {
   "attachments": {},
   "cell_type": "markdown",
   "metadata": {},
   "source": [
    "In the above example, the exception block will run and we do not know exactly the problem. To analyze the problem, we can use the different error types with except.\n",
    "\n",
    "In the following example, it will handle the error and will also tell us the kind of error raised."
   ]
  },
  {
   "cell_type": "code",
   "execution_count": 4,
   "metadata": {},
   "outputs": [
    {
     "name": "stdout",
     "output_type": "stream",
     "text": [
      "Oops! A type error occured.\n"
     ]
    }
   ],
   "source": [
    "try:\n",
    "    name = input(\"Enter your name:\")\n",
    "    year_born = input(\"Enter year you were born:\")\n",
    "    age = 2023 - year_born\n",
    "    print(f\"What's up {name}! You are {age} years-old.\")\n",
    "except TypeError:\n",
    "    print(\"Oops! A type error occured.\")\n",
    "except ValueError:\n",
    "    print(\"Oops! A value error occured.\")\n",
    "except ZeroDivisionError:\n",
    "    print(\"Oops! A zero division error occured.\")"
   ]
  },
  {
   "cell_type": "code",
   "execution_count": 6,
   "metadata": {},
   "outputs": [
    {
     "name": "stdout",
     "output_type": "stream",
     "text": [
      "What's up Alex! You are 32 years-old.\n",
      "I usually run with try block.\n",
      "I always run.\n"
     ]
    }
   ],
   "source": [
    "try:\n",
    "    name = input(\"Enter your name:\")\n",
    "    year_born = input(\"Enter year you were born:\")\n",
    "    age = 2023 - int(year_born)\n",
    "    print(f\"What's up {name}! You are {age} years-old.\")\n",
    "except TypeError:\n",
    "    print(\"Oops! A type error occured.\")\n",
    "except ValueError:\n",
    "    print(\"Oops! A value error occured.\")\n",
    "except ZeroDivisionError:\n",
    "    print(\"Oops! A zero division error occured.\")\n",
    "else:\n",
    "    print(\"I usually run with try block.\")\n",
    "finally:\n",
    "    print(\"I always run.\")"
   ]
  },
  {
   "cell_type": "code",
   "execution_count": 8,
   "metadata": {},
   "outputs": [
    {
     "name": "stdout",
     "output_type": "stream",
     "text": [
      "What's up Alex! You are 32 years-old.\n"
     ]
    }
   ],
   "source": [
    "try:\n",
    "    name = input(\"Enter your name:\")\n",
    "    year_born = input(\"Enter year you were born:\")\n",
    "    age = 2023 - int(year_born)\n",
    "    print(f\"What's up {name}! You are {age} years-old.\")\n",
    "except Exception as e:\n",
    "    print(e)"
   ]
  },
  {
   "attachments": {},
   "cell_type": "markdown",
   "metadata": {},
   "source": [
    "### **Packing and unpacking arguments in Python**"
   ]
  },
  {
   "attachments": {},
   "cell_type": "markdown",
   "metadata": {},
   "source": [
    "#### **Unpacking**"
   ]
  },
  {
   "attachments": {},
   "cell_type": "markdown",
   "metadata": {},
   "source": [
    "We use two operators:\n",
    "\n",
    "- *_for tuples\n",
    "- **_for dictionaries\n",
    "\n",
    "Let us take as an example below. It takes only arguments but we have list. We can unpack the list and changes to argument."
   ]
  },
  {
   "cell_type": "code",
   "execution_count": 1,
   "metadata": {},
   "outputs": [
    {
     "ename": "TypeError",
     "evalue": "sum_of_five_nums() missing 4 required positional arguments: 'b', 'c', 'd', and 'e'",
     "output_type": "error",
     "traceback": [
      "\u001b[0;31m---------------------------------------------------------------------------\u001b[0m",
      "\u001b[0;31mTypeError\u001b[0m                                 Traceback (most recent call last)",
      "Cell \u001b[0;32mIn[1], line 5\u001b[0m\n\u001b[1;32m      2\u001b[0m     \u001b[39mreturn\u001b[39;00m a \u001b[39m+\u001b[39m b \u001b[39m+\u001b[39m c \u001b[39m+\u001b[39m d \u001b[39m+\u001b[39m e\n\u001b[1;32m      4\u001b[0m lst \u001b[39m=\u001b[39m [\u001b[39m1\u001b[39m, \u001b[39m2\u001b[39m, \u001b[39m3\u001b[39m, \u001b[39m4\u001b[39m, \u001b[39m5\u001b[39m]\n\u001b[0;32m----> 5\u001b[0m \u001b[39mprint\u001b[39m(sum_of_five_nums(lst))\n",
      "\u001b[0;31mTypeError\u001b[0m: sum_of_five_nums() missing 4 required positional arguments: 'b', 'c', 'd', and 'e'"
     ]
    }
   ],
   "source": [
    "def sum_of_five_nums(a, b, c, d, e):\n",
    "    return a + b + c + d + e\n",
    "\n",
    "lst = [1, 2, 3, 4, 5]\n",
    "print(sum_of_five_nums(lst))"
   ]
  },
  {
   "attachments": {},
   "cell_type": "markdown",
   "metadata": {},
   "source": [
    "When we run the this code, it raises an error, because this function takes numbers (not a list) as arguments. Let us unpack/destructure the list."
   ]
  },
  {
   "cell_type": "code",
   "execution_count": 2,
   "metadata": {},
   "outputs": [
    {
     "name": "stdout",
     "output_type": "stream",
     "text": [
      "15\n"
     ]
    }
   ],
   "source": [
    "def sum_of_five_nums(a, b, c, d, e):\n",
    "    return a + b + c + d + e\n",
    "\n",
    "lst = [1, 2, 3, 4, 5]\n",
    "print(sum_of_five_nums(*lst))"
   ]
  },
  {
   "attachments": {},
   "cell_type": "markdown",
   "metadata": {},
   "source": [
    "We can also use unpacking in the range built-in function that expects a start and an end."
   ]
  },
  {
   "cell_type": "code",
   "execution_count": 4,
   "metadata": {},
   "outputs": [
    {
     "name": "stdout",
     "output_type": "stream",
     "text": [
      "[2, 3, 4, 5, 6]\n"
     ]
    }
   ],
   "source": [
    "numbers = range(2, 7)\n",
    "print(list(numbers))"
   ]
  },
  {
   "cell_type": "code",
   "execution_count": 9,
   "metadata": {},
   "outputs": [
    {
     "name": "stdout",
     "output_type": "stream",
     "text": [
      "range(2, 7)\n"
     ]
    }
   ],
   "source": [
    "args = [2, 7]\n",
    "numbers = range(*args)\n",
    "print(numbers)"
   ]
  },
  {
   "cell_type": "code",
   "execution_count": 6,
   "metadata": {},
   "outputs": [
    {
     "name": "stdout",
     "output_type": "stream",
     "text": [
      "Finland Sweden Norway ['Denmark', 'Iceland']\n"
     ]
    }
   ],
   "source": [
    "countries = [\"Finland\", \"Sweden\", \"Norway\", \"Denmark\", \"Iceland\"]\n",
    "fin, swe, nor, *rest = countries\n",
    "print(fin, swe, nor, rest)"
   ]
  },
  {
   "cell_type": "code",
   "execution_count": 7,
   "metadata": {},
   "outputs": [
    {
     "name": "stdout",
     "output_type": "stream",
     "text": [
      "1 [2, 3, 4, 5, 6] 7\n"
     ]
    }
   ],
   "source": [
    "numbers = [1, 2, 3, 4, 5, 6, 7]\n",
    "one, *middle, last = numbers\n",
    "print(one, middle, last)"
   ]
  },
  {
   "attachments": {},
   "cell_type": "markdown",
   "metadata": {},
   "source": [
    "Dictionaries"
   ]
  },
  {
   "cell_type": "code",
   "execution_count": 8,
   "metadata": {},
   "outputs": [
    {
     "name": "stdout",
     "output_type": "stream",
     "text": [
      "Alex lives in Colombia, Neiva. He/she is 32 years-old.\n"
     ]
    }
   ],
   "source": [
    "def unpacking_person_info(name, country, city, age):\n",
    "    return f\"{name} lives in {country}, {city}. He/she is {age} years-old.\"\n",
    "\n",
    "dct = {\n",
    "    \"name\": \"Alex\",\n",
    "    \"country\": \"Colombia\",\n",
    "    \"city\": \"Neiva\",\n",
    "    \"age\": 32\n",
    "}\n",
    "\n",
    "print(unpacking_person_info(**dct)) # Double ** for dictionaries"
   ]
  },
  {
   "attachments": {},
   "cell_type": "markdown",
   "metadata": {},
   "source": [
    "#### **Packing**"
   ]
  },
  {
   "attachments": {},
   "cell_type": "markdown",
   "metadata": {},
   "source": [
    "Sometimes we never know how many arguments need to be passed to a python function. We can use the packing method to allow our function to take unlimited number or arbitrary number of arguments."
   ]
  },
  {
   "attachments": {},
   "cell_type": "markdown",
   "metadata": {},
   "source": [
    "Lists"
   ]
  },
  {
   "cell_type": "code",
   "execution_count": 11,
   "metadata": {},
   "outputs": [
    {
     "name": "stdout",
     "output_type": "stream",
     "text": [
      "6\n",
      "28\n"
     ]
    }
   ],
   "source": [
    "def sum_all(*args):\n",
    "    s = 0\n",
    "    for i in args:\n",
    "        s += i\n",
    "    return s\n",
    "\n",
    "print(sum_all(1, 2, 3))\n",
    "print(sum_all(1, 2, 3, 4, 5, 6, 7))"
   ]
  },
  {
   "attachments": {},
   "cell_type": "markdown",
   "metadata": {},
   "source": [
    "Dictionaries"
   ]
  },
  {
   "cell_type": "code",
   "execution_count": 13,
   "metadata": {},
   "outputs": [
    {
     "name": "stdout",
     "output_type": "stream",
     "text": [
      "name = Alex\n",
      "country = Colombia\n",
      "city = Neiva\n",
      "age = 32\n",
      "{'name': 'Alex', 'country': 'Colombia', 'city': 'Neiva', 'age': 32}\n"
     ]
    }
   ],
   "source": [
    "def packing_person_info(**kwargs):\n",
    "    for key in kwargs:\n",
    "        print(f\"{key} = {kwargs[key]}\")\n",
    "    return kwargs\n",
    "\n",
    "print(packing_person_info(name=\"Alex\", country=\"Colombia\", city=\"Neiva\", age=32))"
   ]
  },
  {
   "attachments": {},
   "cell_type": "markdown",
   "metadata": {},
   "source": [
    "### **Spreading in Python**"
   ]
  },
  {
   "cell_type": "code",
   "execution_count": 14,
   "metadata": {},
   "outputs": [
    {
     "name": "stdout",
     "output_type": "stream",
     "text": [
      "[0, 1, 2, 3, 4, 5, 6, 7]\n"
     ]
    }
   ],
   "source": [
    "lst_one = [1, 2, 3]\n",
    "lst_two = [4, 5, 6, 7]\n",
    "lst = [0, *lst_one, *lst_two]\n",
    "print(lst)"
   ]
  },
  {
   "cell_type": "code",
   "execution_count": 15,
   "metadata": {},
   "outputs": [
    {
     "name": "stdout",
     "output_type": "stream",
     "text": [
      "['Ecuador', 'Bolivia', 'México', 'Argentina', 'Perú']\n"
     ]
    }
   ],
   "source": [
    "country_lst_one = [\"Ecuador\", \"Bolivia\", \"México\"]\n",
    "country_lst_two = [\"Argentina\", \"Perú\"]\n",
    "latam_countries = [*country_lst_one, *country_lst_two]\n",
    "print(latam_countries)"
   ]
  },
  {
   "attachments": {},
   "cell_type": "markdown",
   "metadata": {},
   "source": [
    "### **Enumerate**"
   ]
  },
  {
   "attachments": {},
   "cell_type": "markdown",
   "metadata": {},
   "source": [
    "If we are interested in an index of a list, we use enumerate built-in function to get the index of each item in the list."
   ]
  },
  {
   "cell_type": "code",
   "execution_count": 16,
   "metadata": {},
   "outputs": [
    {
     "name": "stdout",
     "output_type": "stream",
     "text": [
      "0 20\n",
      "1 30\n",
      "2 40\n"
     ]
    }
   ],
   "source": [
    "for index, item in enumerate([20, 30, 40]):\n",
    "    print(index, item)"
   ]
  },
  {
   "cell_type": "code",
   "execution_count": 19,
   "metadata": {},
   "outputs": [
    {
     "name": "stdout",
     "output_type": "stream",
     "text": [
      "Hi, Ecuador!\n",
      "Hi, Bolivia!\n",
      "Hi, México!\n",
      "The country México has been found at index 2\n",
      "Hi, Argentina!\n",
      "Hi, Perú!\n"
     ]
    }
   ],
   "source": [
    "for index, i in enumerate(latam_countries):\n",
    "    print(f\"Hi, {i}!\")\n",
    "    if i == \"México\":\n",
    "        print(f\"The country {i} has been found at index {index}\")"
   ]
  },
  {
   "attachments": {},
   "cell_type": "markdown",
   "metadata": {},
   "source": [
    "### **Zip**"
   ]
  },
  {
   "attachments": {},
   "cell_type": "markdown",
   "metadata": {},
   "source": [
    "Sometimes we would like to combine lists when looping through them. See the example below:"
   ]
  },
  {
   "cell_type": "code",
   "execution_count": 20,
   "metadata": {},
   "outputs": [
    {
     "name": "stdout",
     "output_type": "stream",
     "text": [
      "[{'fruit': 'Banana', 'vegetable': 'Tomato'}, {'fruit': 'Orange', 'vegetable': 'Carrot'}, {'fruit': 'Mango', 'vegetable': 'Onion'}, {'fruit': 'Lemon', 'vegetable': 'Broccoli'}, {'fruit': 'Coconut', 'vegetable': 'Cabbage'}]\n"
     ]
    }
   ],
   "source": [
    "fruits = [\"Banana\", \"Orange\", \"Mango\", \"Lemon\", \"Coconut\"]\n",
    "vegetables = [\"Tomato\", \"Carrot\", \"Onion\", \"Broccoli\", \"Cabbage\"]\n",
    "fruits_and_veggies = []\n",
    "\n",
    "for f, v in zip(fruits, vegetables):\n",
    "    fruits_and_veggies.append({\"fruit\":f, \"vegetable\":v})\n",
    "\n",
    "print(fruits_and_veggies)"
   ]
  }
 ],
 "metadata": {
  "kernelspec": {
   "display_name": "base",
   "language": "python",
   "name": "python3"
  },
  "language_info": {
   "codemirror_mode": {
    "name": "ipython",
    "version": 3
   },
   "file_extension": ".py",
   "mimetype": "text/x-python",
   "name": "python",
   "nbconvert_exporter": "python",
   "pygments_lexer": "ipython3",
   "version": "3.10.9"
  },
  "orig_nbformat": 4
 },
 "nbformat": 4,
 "nbformat_minor": 2
}
