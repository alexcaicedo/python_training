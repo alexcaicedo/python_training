{
 "cells": [
  {
   "cell_type": "markdown",
   "metadata": {},
   "source": [
    "# **Uso básico de APIs**\n",
    "\n",
    "- ### Ejemplo de uso directo\n",
    "\n",
    "Link API: [Sunset and sunrise API](https://sunrise-sunset.org/api)\n",
    "\n",
    "**Parámetros:**\n",
    "\n",
    "- **lat (float):** Latitud en grados decimales. Requerido.\n",
    "- **lng (float):** Longitud en grados decimales. Requerido.\n",
    "- **date (string):** Fecha en formato `YYYY-MM-DD`. Optional.\n",
    "\n",
    "**Ejemplo de Estructura del query**\n",
    "\n",
    "`https://api.sunrise-sunset.org/json?`\n",
    "\n",
    "`lat=36.7201600`\n",
    "\n",
    "`&`\n",
    "\n",
    "`lng=-4.4203400`\n",
    "\n",
    "`&`\n",
    "\n",
    "`date=2023-08-09`\n",
    "\n"
   ]
  },
  {
   "cell_type": "code",
   "execution_count": 4,
   "metadata": {},
   "outputs": [],
   "source": [
    "# Imports\n",
    "import requests\n",
    "import json"
   ]
  },
  {
   "cell_type": "code",
   "execution_count": 1,
   "metadata": {},
   "outputs": [],
   "source": [
    "# Definir parámetros del query\n",
    "latitud = -34.6\n",
    "longitud = -58.4\n",
    "fecha = '1816-07-06' # YYYY-MM-DD"
   ]
  },
  {
   "cell_type": "code",
   "execution_count": 3,
   "metadata": {},
   "outputs": [],
   "source": [
    "# Hacemos el pedido y guardamos la respuesta en una nueva variable\n",
    "respuesta_sunset = requests.get(f'https://api.sunrise-sunset.org/json?lat={latitud}&lng={longitud}&date={fecha}')"
   ]
  },
  {
   "cell_type": "code",
   "execution_count": 5,
   "metadata": {},
   "outputs": [
    {
     "data": {
      "text/plain": [
       "{'results': {'sunrise': '10:58:58 AM',\n",
       "  'sunset': '8:56:52 PM',\n",
       "  'solar_noon': '3:57:55 PM',\n",
       "  'day_length': '09:57:54',\n",
       "  'civil_twilight_begin': '10:32:37 AM',\n",
       "  'civil_twilight_end': '9:23:14 PM',\n",
       "  'nautical_twilight_begin': '10:01:17 AM',\n",
       "  'nautical_twilight_end': '9:54:34 PM',\n",
       "  'astronomical_twilight_begin': '9:30:42 AM',\n",
       "  'astronomical_twilight_end': '10:25:08 PM'},\n",
       " 'status': 'OK'}"
      ]
     },
     "execution_count": 5,
     "metadata": {},
     "output_type": "execute_result"
    }
   ],
   "source": [
    "# Para des-serializar el objeto (que era de tipo 'HTTPResponse') y cargarlo como json\n",
    "datos_sunset = respuesta_sunset.json()\n",
    "datos_sunset"
   ]
  },
  {
   "cell_type": "code",
   "execution_count": 6,
   "metadata": {},
   "outputs": [
    {
     "name": "stdout",
     "output_type": "stream",
     "text": [
      "Status: OK\n"
     ]
    }
   ],
   "source": [
    "# Evaluamos el status del pedido\n",
    "sunset_status = datos_sunset['status']\n",
    "print(f'Status: {sunset_status}')"
   ]
  },
  {
   "cell_type": "code",
   "execution_count": 7,
   "metadata": {},
   "outputs": [
    {
     "name": "stdout",
     "output_type": "stream",
     "text": [
      "El 1816-07-06 el sol se ocultó a las 8:56:52 PM (UTC)\n"
     ]
    }
   ],
   "source": [
    "# Podemos ver su contenido ya que son diccionarios anidados\n",
    "sunset = datos_sunset['results']['sunset']\n",
    "print(f'El {fecha} el sol se ocultó a las {sunset} (UTC)')"
   ]
  },
  {
   "cell_type": "code",
   "execution_count": 8,
   "metadata": {},
   "outputs": [
    {
     "name": "stdout",
     "output_type": "stream",
     "text": [
      "Iterando data_sunset['results']:\n",
      "sunrise\n",
      "sunset\n",
      "solar_noon\n",
      "day_length\n",
      "civil_twilight_begin\n",
      "civil_twilight_end\n",
      "nautical_twilight_begin\n",
      "nautical_twilight_end\n",
      "astronomical_twilight_begin\n",
      "astronomical_twilight_end\n"
     ]
    }
   ],
   "source": [
    "# También podemos iterar sobre las keys\n",
    "print(\"Iterando data_sunset['results']:\")\n",
    "for elemento in datos_sunset['results']:\n",
    "    print(elemento)"
   ]
  },
  {
   "cell_type": "code",
   "execution_count": null,
   "metadata": {},
   "outputs": [],
   "source": []
  }
 ],
 "metadata": {
  "kernelspec": {
   "display_name": "scrap-venv",
   "language": "python",
   "name": "python3"
  },
  "language_info": {
   "codemirror_mode": {
    "name": "ipython",
    "version": 3
   },
   "file_extension": ".py",
   "mimetype": "text/x-python",
   "name": "python",
   "nbconvert_exporter": "python",
   "pygments_lexer": "ipython3",
   "version": "3.10.12"
  },
  "orig_nbformat": 4
 },
 "nbformat": 4,
 "nbformat_minor": 2
}
